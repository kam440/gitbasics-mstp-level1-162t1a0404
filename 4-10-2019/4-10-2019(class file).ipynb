{
 "cells": [
  {
   "cell_type": "code",
   "execution_count": null,
   "metadata": {},
   "outputs": [],
   "source": [
    "## File Modes\n",
    "#tell\n",
    "#seek\n",
    "# w+=Write and read"
   ]
  },
  {
   "cell_type": "code",
   "execution_count": 4,
   "metadata": {},
   "outputs": [],
   "source": [
    "# file_operations\n",
    "def file_operations(f1):\n",
    "    f=open(\"file_operations.txt\",'w')\n",
    "    f.write(\"saahoo\")\n",
    "    f.write(\"\\nsyraaaaaa\\n\")\n",
    "    f.close()\n",
    "f1=\"file_operations.txt\"\n",
    "file_operations(f1)"
   ]
  },
  {
   "cell_type": "code",
   "execution_count": 11,
   "metadata": {},
   "outputs": [
    {
     "name": "stdout",
     "output_type": "stream",
     "text": [
      "saahoo\n",
      "syraa\n",
      "12\n"
     ]
    }
   ],
   "source": [
    "f=open(\"file_operations.txt\",'r')\n",
    "f1=f.read(12)\n",
    "print(f1)\n",
    "print(f.tell())\n",
    "f.close()"
   ]
  },
  {
   "cell_type": "code",
   "execution_count": 12,
   "metadata": {},
   "outputs": [
    {
     "data": {
      "text/plain": [
       "17"
      ]
     },
     "execution_count": 12,
     "metadata": {},
     "output_type": "execute_result"
    }
   ],
   "source": [
    "x=open(\"file_operations.txt\",'r')\n",
    "x.read()\n",
    "x.tell()\n"
   ]
  },
  {
   "cell_type": "code",
   "execution_count": 16,
   "metadata": {},
   "outputs": [
    {
     "name": "stdout",
     "output_type": "stream",
     "text": [
      "ahoo\n",
      "syraaaaaa\n",
      "\n"
     ]
    }
   ],
   "source": [
    "x=open(\"file_operations.txt\",'r')\n",
    "x.read()\n",
    "x.seek(2)\n",
    "x.tell()\n",
    "print(x.read())"
   ]
  },
  {
   "cell_type": "code",
   "execution_count": 48,
   "metadata": {},
   "outputs": [
    {
     "name": "stdout",
     "output_type": "stream",
     "text": [
      "000\n",
      "polindrome\n"
     ]
    }
   ],
   "source": [
    "## Polindrome\n",
    "def polindrome(f1):\n",
    "    #with open(\"file_operations.txt\",'r') as :\n",
    "    n=int(input())\n",
    "    a=0\n",
    "    m=n\n",
    "    #while(n!=0):\n",
    "    for i in range(n):\n",
    "        if(n!=0):\n",
    "            s=n%10\n",
    "            a=a*10+s\n",
    "            n=n//10\n",
    "    if(a==m):\n",
    "        print(\"polindrome\")\n",
    "    else:\n",
    "        print(\"not polindrome\")\n",
    "#f1=\"file_operations.txt\"\n",
    "polindrome(f1)"
   ]
  },
  {
   "cell_type": "code",
   "execution_count": 23,
   "metadata": {},
   "outputs": [
    {
     "name": "stdout",
     "output_type": "stream",
     "text": [
      "s good\n"
     ]
    }
   ],
   "source": [
    "filepath=\"file_operations.txt\"\n",
    "def writeread(filepath):\n",
    "    with open(filepath,'w+') as f:\n",
    "        f.write(\"world is good\")\n",
    "        f.seek(7)\n",
    "        f1=f.read()\n",
    "        print(f1)\n",
    "writeread(filepath)"
   ]
  },
  {
   "cell_type": "code",
   "execution_count": 43,
   "metadata": {},
   "outputs": [
    {
     "name": "stdout",
     "output_type": "stream",
     "text": [
      "amma\n",
      "polindrome\n"
     ]
    }
   ],
   "source": [
    "# polindrome string\n",
    "def polindrome(s):\n",
    "    s=input()\n",
    "    b=len(s)\n",
    "    a=\"\"\n",
    "    for i in range(1,b):\n",
    "        a=s[::-1]\n",
    "    if s==a:\n",
    "        print(\"polindrome\")\n",
    "    else:\n",
    "        print(\"not polindrome\")\n",
    "polindrome(s)"
   ]
  },
  {
   "cell_type": "code",
   "execution_count": null,
   "metadata": {},
   "outputs": [],
   "source": []
  }
 ],
 "metadata": {
  "kernelspec": {
   "display_name": "Python 3",
   "language": "python",
   "name": "python3"
  },
  "language_info": {
   "codemirror_mode": {
    "name": "ipython",
    "version": 3
   },
   "file_extension": ".py",
   "mimetype": "text/x-python",
   "name": "python",
   "nbconvert_exporter": "python",
   "pygments_lexer": "ipython3",
   "version": "3.7.3"
  }
 },
 "nbformat": 4,
 "nbformat_minor": 2
}
