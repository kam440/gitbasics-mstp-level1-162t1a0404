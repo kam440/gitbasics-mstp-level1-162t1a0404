{
 "cells": [
  {
   "cell_type": "code",
   "execution_count": 9,
   "metadata": {},
   "outputs": [
    {
     "name": "stdout",
     "output_type": "stream",
     "text": [
      "{1: 1, 2: 4, 3: 9, 4: 16, 5: 25, 6: 36, 7: 49, 8: 64, 9: 81, 10: 100, 11: 121, 12: 144, 13: 169, 14: 196, 15: 225}\n",
      "[1, 4, 9, 16, 25, 36, 49, 64, 81, 100, 121, 144, 169, 196, 225]\n"
     ]
    }
   ],
   "source": [
    "#1.Write a Python program to generate and print a list and a dictionary of square of numbers between 1 and 15 (both included)\n",
    "d={}\n",
    "c=[]\n",
    "for i in range(1,16):\n",
    "    d[i]=i**2\n",
    "    c.append(i**2)\n",
    "print(d)\n",
    "print(c)\n"
   ]
  },
  {
   "cell_type": "code",
   "execution_count": 11,
   "metadata": {},
   "outputs": [
    {
     "name": "stdout",
     "output_type": "stream",
     "text": [
      "[1, 2, 3, 4, 5, 6, 7, 8, 9, 10]\n"
     ]
    }
   ],
   "source": [
    "#2.Take 10 integer inputs from user and store them in a list and print them on screen.\n",
    "a=[]\n",
    "for i in range(1,11):\n",
    "    a.append(i)\n",
    "print(a)"
   ]
  },
  {
   "cell_type": "code",
   "execution_count": 27,
   "metadata": {},
   "outputs": [
    {
     "name": "stdout",
     "output_type": "stream",
     "text": [
      "[2, 4] "
     ]
    }
   ],
   "source": [
    "#3.l=[1,5,7,3,2,4,5,9],print list of all even numbers from the given list \n",
    "b=[1,5,7,3,2,4,5,9]\n",
    "c=[]\n",
    "for i in range(len(b)):\n",
    "    if (b[i]%2==0):\n",
    "        c.append(b[i])\n",
    "print(c,end=\" \")"
   ]
  },
  {
   "cell_type": "code",
   "execution_count": 17,
   "metadata": {},
   "outputs": [
    {
     "name": "stdout",
     "output_type": "stream",
     "text": [
      "10\n",
      "4\n",
      "5\n",
      "-9\n",
      "0\n",
      "7\n",
      "-3\n",
      "6\n",
      "2\n",
      "8\n",
      "{'p': 3, 'n': 1, 'e': 2, 'o': 2, 'z': 1}\n"
     ]
    }
   ],
   "source": [
    "#4.Take 10 integer inputs from user and print the following:\n",
    "#number of positive numbers\n",
    "#number of negative numbers\n",
    "#number of odd numbers\n",
    "#number of even numbers\n",
    "#number of 0s.using dictionaries\n",
    "#a=[10,20,-5,-6,3,4,0,0,-2,8]\n",
    "#d={p:5,n:3,e:6,odd:2,0:2}\n",
    "l=[]\n",
    "for i in range(1,11):\n",
    "    n=int(input())\n",
    "    l.append(n)\n",
    "d={'p':0,'n':0,'e':0,'o':0,'z':0}\n",
    "for j in l:\n",
    "    if j>0:\n",
    "        d['p']+=1\n",
    "        if j%2==0:\n",
    "            d['e']+=1\n",
    "        else:\n",
    "            d['o']+=1\n",
    "    elif j<0:\n",
    "        d['n']+=1\n",
    "        if j%2==0:\n",
    "            d['e']+=1\n",
    "        else:\n",
    "            d['o']+=1\n",
    "    elif j==0:\n",
    "        d['z']+=1\n",
    "        print(d)"
   ]
  },
  {
   "cell_type": "code",
   "execution_count": 49,
   "metadata": {},
   "outputs": [
    {
     "name": "stdout",
     "output_type": "stream",
     "text": [
      "{'S': 4, 'I': 4, 'P': 2, 'M': 1}\n"
     ]
    }
   ],
   "source": [
    "#8.Count the number of occurrence of each letter in word \"MISSISSIPPI\". Store count of every letter with the letter in a dictionary.\n",
    "x=\"MISSISSIPPI\"\n",
    "z=list(set(x))\n",
    "y={}\n",
    "for i in z:\n",
    "    y[i]=x.count(i)\n",
    "print(y)"
   ]
  },
  {
   "cell_type": "code",
   "execution_count": 54,
   "metadata": {},
   "outputs": [
    {
     "name": "stdout",
     "output_type": "stream",
     "text": [
      "['I', 'M', 'P', 'S']\n",
      "{'I': 4, 'M': 1, 'P': 2, 'S': 4}\n"
     ]
    }
   ],
   "source": [
    "#9.From the previous question, sort according to the number of letters.\n",
    "x=\"MISSISSIPPI\"\n",
    "z=list(set(x))\n",
    "z=sorted(z)\n",
    "print(z)\n",
    "y={}\n",
    "for i in z:\n",
    "    y[i]=x.count(i)\n",
    "print(y)"
   ]
  },
  {
   "cell_type": "code",
   "execution_count": 2,
   "metadata": {},
   "outputs": [
    {
     "name": "stdout",
     "output_type": "stream",
     "text": [
      "10\n",
      "a\n",
      "78\n",
      "b\n",
      "90\n",
      "c\n",
      "67\n",
      "d\n",
      "45\n",
      "e\n",
      "78\n",
      "f\n",
      "89\n",
      "g\n",
      "90\n",
      "h\n",
      "78\n",
      "i\n",
      "67\n",
      "j\n",
      "34\n",
      "{'a': 78, 'b': 90, 'c': 67, 'd': 45, 'e': 78, 'f': 89, 'g': 90, 'h': 78, 'i': 67, 'j': 34}\n"
     ]
    }
   ],
   "source": [
    "#5.Ask user to give name and marks of 10 different students. Store them in dictionary.\n",
    "d={}\n",
    "n=int(input())\n",
    "for i in range(1,n+1):\n",
    "    a=input()\n",
    "    b=int(input())\n",
    "    d[a]=b\n",
    "print(d)"
   ]
  },
  {
   "cell_type": "code",
   "execution_count": 7,
   "metadata": {},
   "outputs": [
    {
     "name": "stdout",
     "output_type": "stream",
     "text": [
      "3\n",
      "67\n",
      "a\n",
      "90\n",
      "b\n",
      "45\n",
      "c\n",
      "{67: 'a', 90: 'b', 45: 'c'}\n",
      "[45, 67, 90]\n",
      "45 : c\n",
      "67 : a\n",
      "90 : b\n"
     ]
    }
   ],
   "source": [
    "#6.Sort the dictionary created in previous example according to marks.\n",
    "d={}\n",
    "n=int(input())\n",
    "\n",
    "for i in range(1,n+1):\n",
    "    a=int(input())\n",
    "    b=input()\n",
    "    d[a]=b\n",
    "print(d)\n",
    "a=sorted(d.keys())\n",
    "print(a)\n",
    "for i in a:\n",
    "    print(i,\":\",d[i])"
   ]
  },
  {
   "cell_type": "code",
   "execution_count": 12,
   "metadata": {},
   "outputs": [
    {
     "name": "stdout",
     "output_type": "stream",
     "text": [
      "Right\n",
      "up\n",
      "up\n",
      "Down\n"
     ]
    }
   ],
   "source": [
    "#7.Use dictionary to store antonyms of words. \n",
    "#E.g.- 'Right':'Left', 'Up':'Down', etc. Display all words and then ask user to enter a word and display antonym of it.\n",
    "d={'Right':'Left','up':'Down'}\n",
    "for i in d:\n",
    "    print(i)\n",
    "n=input()\n",
    "#print(d.get(n))\n",
    "print(d[n])"
   ]
  },
  {
   "cell_type": "code",
   "execution_count": null,
   "metadata": {},
   "outputs": [],
   "source": []
  }
 ],
 "metadata": {
  "kernelspec": {
   "display_name": "Python 3",
   "language": "python",
   "name": "python3"
  },
  "language_info": {
   "codemirror_mode": {
    "name": "ipython",
    "version": 3
   },
   "file_extension": ".py",
   "mimetype": "text/x-python",
   "name": "python",
   "nbconvert_exporter": "python",
   "pygments_lexer": "ipython3",
   "version": "3.7.3"
  }
 },
 "nbformat": 4,
 "nbformat_minor": 2
}
