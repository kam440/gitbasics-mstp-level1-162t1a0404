{
 "cells": [
  {
   "cell_type": "markdown",
   "metadata": {},
   "source": [
    "## Regular Expression"
   ]
  },
  {
   "cell_type": "code",
   "execution_count": null,
   "metadata": {},
   "outputs": [],
   "source": [
    "#1.abc-that matches the character sequence anywheara in the string\n",
    "#2.^-->beginning of the string\n",
    "#3.$--> end of the string\n",
    "#4.a|b-->either a or b\n",
    "^abc|abc$-->the string abc at the begining or at the end of the string\n",
    "ab{2,4}c-->followed by 2 or 3 0r 4\n",
    "ab{2,}c-->\n",
    "^([0-9]|[a-z]|[A-Z])([0-9]|[a-z]|[A-Z]|[_]){6,14}([0-9]|[a-z])@[a-z]{2,10}.[.][a-z]{2,4}$"
   ]
  },
  {
   "cell_type": "markdown",
   "metadata": {},
   "source": [
    "## Phone no validation"
   ]
  },
  {
   "cell_type": "code",
   "execution_count": 38,
   "metadata": {},
   "outputs": [
    {
     "data": {
      "text/plain": [
       "1"
      ]
     },
     "execution_count": 38,
     "metadata": {},
     "output_type": "execute_result"
    }
   ],
   "source": [
    "#^[0][6-9][0-9]$ #10 digit num starting with zero\n",
    "#^+91[6789][0-9]{9}$----10 digit num starting with +91\n",
    "#^[6-9][0-9]{9}$\n",
    "import re\n",
    "def phone(no):\n",
    "    pattern='^[+][9][1][6789][0-9]{9}$|^[6-9][0-9]{9}$|^[0][6-9][0-9]{9}$'\n",
    "    if re.match(pattern,str(no)):\n",
    "        return 1\n",
    "    else:\n",
    "        return 0\n",
    "phone(\"6281717221\")\n",
    "phone(\"+917675922930\")\n",
    "phone(\"06281717221\")\n",
    "phone(\"7675922930\")"
   ]
  },
  {
   "cell_type": "code",
   "execution_count": 39,
   "metadata": {},
   "outputs": [
    {
     "data": {
      "text/plain": [
       "1"
      ]
     },
     "execution_count": 39,
     "metadata": {},
     "output_type": "execute_result"
    }
   ],
   "source": [
    "#email evaluation\n",
    "import re\n",
    "def email(mail):\n",
    "    pattern='^([0-9]|[a-z]|[A-Z])([0-9]|[a-z]|[A-Z]|[_]){6,14}([0-9]|[a-z])@[a-z]{2,10}.[.][a-z]{2,4}$'\n",
    "    if re.match(pattern,str(mail)):\n",
    "        return 1\n",
    "    else:\n",
    "        return 0\n",
    "email(\"kameswaribhavya@gmail.com\")\n",
    "email(\"rajeswari434@gmail.com\")"
   ]
  },
  {
   "cell_type": "code",
   "execution_count": 40,
   "metadata": {},
   "outputs": [
    {
     "name": "stdout",
     "output_type": "stream",
     "text": [
      "phone verified successfully\n",
      "email verified successfully\n"
     ]
    },
    {
     "data": {
      "text/plain": [
       "{'name1': ['6281717221', 'kameswari@gmail.com'],\n",
       " 'nanna': ['7675922930', 'sivareddy@gmail.com']}"
      ]
     },
     "execution_count": 40,
     "metadata": {},
     "output_type": "execute_result"
    }
   ],
   "source": [
    "# name email add contact\n",
    "contact={'name1':[\"6281717221\",\"kameswari@gmail.com\"]}\n",
    "def addcontact(name,l):\n",
    "    if name not in contact:\n",
    "        no=l[0]\n",
    "        id=l[1]\n",
    "        if phone(no)==1:\n",
    "            print(\"phone verified successfully\")\n",
    "            if email(id)==1:\n",
    "                print(\"email verified successfully\")\n",
    "                contact[name]=l\n",
    "        else:\n",
    "            print(\"enter valid no and email id\")\n",
    "            \n",
    "       \n",
    "    else:\n",
    "        print(\"contact already exists\")\n",
    "addcontact(\"nanna\",[\"7675922930\",\"sivareddy@gmail.com\"])\n",
    "contact\n",
    "\n",
    "\n",
    "    \n"
   ]
  },
  {
   "cell_type": "code",
   "execution_count": null,
   "metadata": {},
   "outputs": [],
   "source": []
  },
  {
   "cell_type": "code",
   "execution_count": null,
   "metadata": {},
   "outputs": [],
   "source": []
  }
 ],
 "metadata": {
  "kernelspec": {
   "display_name": "Python 3",
   "language": "python",
   "name": "python3"
  },
  "language_info": {
   "codemirror_mode": {
    "name": "ipython",
    "version": 3
   },
   "file_extension": ".py",
   "mimetype": "text/x-python",
   "name": "python",
   "nbconvert_exporter": "python",
   "pygments_lexer": "ipython3",
   "version": "3.7.3"
  }
 },
 "nbformat": 4,
 "nbformat_minor": 2
}
