{
 "cells": [
  {
   "cell_type": "code",
   "execution_count": 2,
   "metadata": {},
   "outputs": [
    {
     "name": "stdout",
     "output_type": "stream",
     "text": [
      "50\n",
      "34.0\n"
     ]
    }
   ],
   "source": [
    "## first class percentage\n",
    "filepath=\"studentmarks.txt\"\n",
    "def percentage(filepath):\n",
    "    first_count=0\n",
    "    total_count=0\n",
    "    with open(filepath,'r') as f:\n",
    "        f1=f.read()\n",
    "        for i in f1.split():\n",
    "            total_count+=1\n",
    "            if int(i)>=75:\n",
    "                first_count+=1\n",
    "        print(total_count)\n",
    "        print((first_count/total_count)*100)\n",
    "        \n",
    "percentage(filepath)"
   ]
  },
  {
   "cell_type": "code",
   "execution_count": 8,
   "metadata": {},
   "outputs": [
    {
     "name": "stdout",
     "output_type": "stream",
     "text": [
      "50\n",
      "24.0\n"
     ]
    }
   ],
   "source": [
    "## second class percentage\n",
    "filepath=\"studentmarks.txt\"\n",
    "def percentage(filepath):\n",
    "    second_count=0\n",
    "    total_count=0\n",
    "    with open(filepath,'r') as f:\n",
    "        f1=f.read()\n",
    "        for i in f1.split():\n",
    "            total_count+=1\n",
    "            if int(i)>=50 and int(i)<=75:\n",
    "                second_count+=1\n",
    "        print(total_count)\n",
    "        print((second_count/total_count)*100)\n",
    "        \n",
    "percentage(filepath)"
   ]
  },
  {
   "cell_type": "code",
   "execution_count": 9,
   "metadata": {},
   "outputs": [
    {
     "name": "stdout",
     "output_type": "stream",
     "text": [
      "50\n",
      "10.0\n"
     ]
    }
   ],
   "source": [
    "## third class percentage\n",
    "filepath=\"studentmarks.txt\"\n",
    "def percentage(filepath):\n",
    "    third_count=0\n",
    "    total_count=0\n",
    "    with open(filepath,'r') as f:\n",
    "        f1=f.read()\n",
    "        for i in f1.split():\n",
    "            total_count+=1\n",
    "            if int(i)>=35 and int(i)<=50:\n",
    "                third_count+=1\n",
    "        print(total_count)\n",
    "        print((third_count/total_count)*100)\n",
    "        \n",
    "percentage(filepath)"
   ]
  },
  {
   "cell_type": "code",
   "execution_count": null,
   "metadata": {},
   "outputs": [],
   "source": []
  }
 ],
 "metadata": {
  "kernelspec": {
   "display_name": "Python 3",
   "language": "python",
   "name": "python3"
  },
  "language_info": {
   "codemirror_mode": {
    "name": "ipython",
    "version": 3
   },
   "file_extension": ".py",
   "mimetype": "text/x-python",
   "name": "python",
   "nbconvert_exporter": "python",
   "pygments_lexer": "ipython3",
   "version": "3.7.3"
  }
 },
 "nbformat": 4,
 "nbformat_minor": 2
}
