{
 "cells": [
  {
   "cell_type": "code",
   "execution_count": 42,
   "metadata": {},
   "outputs": [],
   "source": [
    "## To create a file some content\n",
    "filepath=\"content.txt\"\n",
    "def create(filepath):\n",
    "    with open(filepath,'w') as f:\n",
    "        f.write(\"hii\\n hello\\n welcome to python\\n hii\")\n",
    "        \n",
    "create(filepath)"
   ]
  },
  {
   "cell_type": "code",
   "execution_count": 4,
   "metadata": {},
   "outputs": [
    {
     "name": "stdout",
     "output_type": "stream",
     "text": [
      "hii\n",
      " hello\n",
      " welcome to python\n"
     ]
    }
   ],
   "source": [
    "filepath=\"content.txt\"\n",
    "def readdata(filepath):\n",
    "    with open(filepath,'r') as f:\n",
    "        f1=f.read()\n",
    "        print(f1)\n",
    "readdata(filepath)"
   ]
  },
  {
   "cell_type": "code",
   "execution_count": null,
   "metadata": {},
   "outputs": [],
   "source": []
  },
  {
   "cell_type": "code",
   "execution_count": 11,
   "metadata": {},
   "outputs": [],
   "source": [
    "# generate a file of 50 students marks\n",
    "filepath=\"studentmarks.txt\"\n",
    "import random\n",
    "def marksmemo(filepath,n):\n",
    "    with open(filepath,'w') as f:\n",
    "        for i in range(n):\n",
    "            f.write(str(random.randint(1,100))+'\\n')\n",
    "marksmemo(filepath,50)\n",
    "    \n",
    "        \n",
    "        \n"
   ]
  },
  {
   "cell_type": "code",
   "execution_count": 14,
   "metadata": {},
   "outputs": [
    {
     "name": "stdout",
     "output_type": "stream",
     "text": [
      "2615\n",
      "50\n"
     ]
    },
    {
     "data": {
      "text/plain": [
       "52"
      ]
     },
     "execution_count": 14,
     "metadata": {},
     "output_type": "execute_result"
    }
   ],
   "source": [
    "## class avg\n",
    "filepath=\"studentmarks.txt\"\n",
    "def classavg(filepath):\n",
    "    s=0\n",
    "    c=0\n",
    "    with open(filepath,'r') as f:\n",
    "        f1=f.read()\n",
    "        l=f1.split()\n",
    "        for i in l:\n",
    "            s=s+int(i)\n",
    "            c=c+1\n",
    "            avg=s//c\n",
    "        print(s)\n",
    "        print(c)\n",
    "    return avg\n",
    "classavg(filepath)"
   ]
  },
  {
   "cell_type": "code",
   "execution_count": 29,
   "metadata": {},
   "outputs": [
    {
     "name": "stdout",
     "output_type": "stream",
     "text": [
      "34.0\n"
     ]
    }
   ],
   "source": [
    "## highest percentage\n",
    "filepath=\"studentmarks.txt\"\n",
    "def percentage(filepath,n):\n",
    "    c=0\n",
    "    with open(filepath,'r') as f:\n",
    "        f1=f.read()\n",
    "        l=f1.split()\n",
    "        for i in l:\n",
    "            if int(i)>=75:\n",
    "                c=c+1\n",
    "        highest=((c/n)*100)\n",
    "        print(highest)\n",
    "percentage(filepath,50)\n",
    "        "
   ]
  },
  {
   "cell_type": "code",
   "execution_count": 37,
   "metadata": {},
   "outputs": [
    {
     "name": "stdout",
     "output_type": "stream",
     "text": [
      "50\n",
      "64.0\n"
     ]
    }
   ],
   "source": [
    "## pass percentage\n",
    "filepath=\"studentmarks.txt\"\n",
    "def percentage(filepath):\n",
    "    passed_count=0\n",
    "    total_count=0\n",
    "    with open(filepath,'r') as f:\n",
    "        f1=f.read()\n",
    "        for i in f1.split():\n",
    "            total_count+=1\n",
    "            if int(i)>=35:\n",
    "                passed_count+=1\n",
    "        print(total_count)\n",
    "        print((passed_count/total_count)*100)\n",
    "        \n",
    "percentage(filepath)"
   ]
  },
  {
   "cell_type": "code",
   "execution_count": 40,
   "metadata": {},
   "outputs": [
    {
     "name": "stdout",
     "output_type": "stream",
     "text": [
      "99\n",
      "98\n",
      "95\n",
      "91\n",
      "95\n",
      "95\n"
     ]
    }
   ],
   "source": [
    "## Highest marks\n",
    "filepath=\"studentmarks.txt\"\n",
    "def highest(filepath):\n",
    "    with open(filepath,'r') as f:\n",
    "        f1=f.read()\n",
    "        l=f1.split()\n",
    "        for i in l:\n",
    "            if (int(i)>=90):\n",
    "                print(int(i))\n",
    "highest(filepath)"
   ]
  },
  {
   "cell_type": "code",
   "execution_count": 41,
   "metadata": {},
   "outputs": [
    {
     "name": "stdout",
     "output_type": "stream",
     "text": [
      "7\n",
      "16\n",
      "19\n",
      "10\n",
      "12\n",
      "7\n",
      "10\n",
      "15\n",
      "9\n",
      "20\n",
      "3\n"
     ]
    }
   ],
   "source": [
    "## lowest marks\n",
    "filepath=\"studentmarks.txt\"\n",
    "def lowest(filepath):\n",
    "    with open(filepath,'r') as f:\n",
    "        f1=f.read()\n",
    "        l=f1.split()\n",
    "        for i in l:\n",
    "            if (int(i)<=20):\n",
    "                print(int(i))\n",
    "lowest(filepath)"
   ]
  },
  {
   "cell_type": "code",
   "execution_count": 47,
   "metadata": {},
   "outputs": [
    {
     "name": "stdout",
     "output_type": "stream",
     "text": [
      "['hii', ' hello', ' welcome to python', 'hii']\n",
      " hello 1\n",
      " welcome to python 1\n",
      "hii 2\n"
     ]
    }
   ],
   "source": [
    "## frequency of words using set\n",
    "filepath=\"content.txt\"\n",
    "def frequencyofwords(filepath):\n",
    "    with open(filepath,'r') as f:\n",
    "        f1=f.read()\n",
    "        l=f1.split('\\n')\n",
    "        print(l)\n",
    "        for i in set(l):\n",
    "            print(i,l.count(i))\n",
    "frequencyofwords(filepath)"
   ]
  },
  {
   "cell_type": "code",
   "execution_count": null,
   "metadata": {},
   "outputs": [],
   "source": [
    "## frequency of words using dictionaries\n",
    "d={\"hii\":'','hello':''}\n"
   ]
  },
  {
   "cell_type": "code",
   "execution_count": 48,
   "metadata": {},
   "outputs": [
    {
     "name": "stdout",
     "output_type": "stream",
     "text": [
      "{'c': 1, 'v': 1, ' ': 2, 'f': 1, 'g': 2, 'h': 2}\n"
     ]
    }
   ],
   "source": [
    "d={}\n",
    "x=\"cv fg ghh\"\n",
    "for i in x:\n",
    "    d[i]=x.count(i)\n",
    "print(d)"
   ]
  },
  {
   "cell_type": "code",
   "execution_count": 50,
   "metadata": {},
   "outputs": [
    {
     "name": "stdout",
     "output_type": "stream",
     "text": [
      "{'f': 2, 'g': 2, 'h': 3, ' ': 3, 'v': 1, 'r': 1, 't': 1, 'j': 1, '1': 1, '2': 2, '3': 2}\n"
     ]
    }
   ],
   "source": [
    "d={}\n",
    "s=\"fgh vrthj fgh 12323\"\n",
    "for i in s:\n",
    "    d[i]=s.count(i)\n",
    "    #print(i,':',s.count(i),end=\" \")\n",
    "print(d)"
   ]
  },
  {
   "cell_type": "code",
   "execution_count": 51,
   "metadata": {},
   "outputs": [
    {
     "name": "stdout",
     "output_type": "stream",
     "text": [
      "['hii', ' hello', ' welcome to python', 'hii']\n",
      "{' hello': 1, ' welcome to python': 1, 'hii': 2}\n"
     ]
    }
   ],
   "source": [
    "## frequency of words using dictionaries\n",
    "def frequencyofwords(filepath):\n",
    "    d={}\n",
    "    with open(filepath,'r') as f:\n",
    "        f1=f.read()\n",
    "        l=f1.split('\\n') ## list\n",
    "        print(l)\n",
    "        for i in set(l):\n",
    "            d[i]=l.count(i)\n",
    "        print(d)\n",
    "frequencyofwords(filepath)"
   ]
  },
  {
   "cell_type": "code",
   "execution_count": 53,
   "metadata": {},
   "outputs": [
    {
     "name": "stdout",
     "output_type": "stream",
     "text": [
      "hii\n",
      " hello\n",
      " welcome to python\n",
      "hii hii\n",
      " hello\n",
      " kameswari to python\n",
      "hii "
     ]
    }
   ],
   "source": [
    "## find and replace of a new data\n",
    "filepath=\"content.txt\"\n",
    "def findreplace(filepath):\n",
    "    with open(filepath,'r') as f:\n",
    "        f1=f.read()\n",
    "        s=f1.replace(\"welcome\",\"kameswari\")\n",
    "        print(f1,end=\" \")\n",
    "        print(s,end=\" \")\n",
    "findreplace(filepath)"
   ]
  },
  {
   "cell_type": "code",
   "execution_count": 55,
   "metadata": {},
   "outputs": [
    {
     "name": "stdout",
     "output_type": "stream",
     "text": [
      "hello bhavya\n"
     ]
    }
   ],
   "source": [
    "x=\"hello kam\"\n",
    "s=x.replace(\"kam\",\"bhavya\")\n",
    "print(s)"
   ]
  },
  {
   "cell_type": "code",
   "execution_count": null,
   "metadata": {},
   "outputs": [],
   "source": []
  }
 ],
 "metadata": {
  "kernelspec": {
   "display_name": "Python 3",
   "language": "python",
   "name": "python3"
  },
  "language_info": {
   "codemirror_mode": {
    "name": "ipython",
    "version": 3
   },
   "file_extension": ".py",
   "mimetype": "text/x-python",
   "name": "python",
   "nbconvert_exporter": "python",
   "pygments_lexer": "ipython3",
   "version": "3.7.3"
  }
 },
 "nbformat": 4,
 "nbformat_minor": 2
}
