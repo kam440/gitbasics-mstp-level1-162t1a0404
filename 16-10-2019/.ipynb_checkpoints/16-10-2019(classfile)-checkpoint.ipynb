{
 "cells": [
  {
   "cell_type": "markdown",
   "metadata": {},
   "source": [
    "## Handling csv files"
   ]
  },
  {
   "cell_type": "code",
   "execution_count": 1,
   "metadata": {},
   "outputs": [],
   "source": [
    "file=\"mstp.txt\"\n",
    "def name(file):\n",
    "    with open(file,'w') as f:\n",
    "        f.write(\"kvsw\"+\",\"+\"kvsr\"+\",\"+\"kvsm\")\n",
    "name(file)"
   ]
  },
  {
   "cell_type": "code",
   "execution_count": 4,
   "metadata": {},
   "outputs": [],
   "source": [
    "s=\"\\n ece\"\n",
    "with open(file,'a') as f:\n",
    "    #f.write(\"cse\"+\",\"+\"ece\"+\",\"+\"civil\")\n",
    "    f.write(s)"
   ]
  },
  {
   "cell_type": "code",
   "execution_count": 5,
   "metadata": {},
   "outputs": [
    {
     "name": "stdout",
     "output_type": "stream",
     "text": [
      "kvsw,kvsr,kvsm\n",
      " ece\n",
      " ece,cse\n",
      " ece\n"
     ]
    }
   ],
   "source": [
    "with open(file,'r') as f:\n",
    "    s=f.read()\n",
    "    print(s)"
   ]
  },
  {
   "cell_type": "code",
   "execution_count": 7,
   "metadata": {},
   "outputs": [
    {
     "name": "stdout",
     "output_type": "stream",
     "text": [
      "kvsw,kvsr,kvsm\n",
      "\n"
     ]
    }
   ],
   "source": [
    "with open(file,'r') as f:\n",
    "    s=f.readlines()\n",
    "    print(s[0])"
   ]
  },
  {
   "cell_type": "code",
   "execution_count": 14,
   "metadata": {},
   "outputs": [],
   "source": [
    "file=\"contacts.txt\"\n",
    "with open(file,\"a\") as f:\n",
    "    f.write(\"name\"+\",\"+\"6281717221\"+\",\"+\"kameswaribhavya@gmail.com\")\n",
    "    f.write(\"\\nname1\"+\",\"+\"8317571623\"+\",\"+\"akameswari715@gmail.com\")"
   ]
  },
  {
   "cell_type": "code",
   "execution_count": 18,
   "metadata": {},
   "outputs": [
    {
     "name": "stdout",
     "output_type": "stream",
     "text": [
      "['name,6281717221,kameswaribhavya@gmail.com\\n', 'name1,8317571623,akameswari715@gmail.com']\n",
      "name1,8317571623,akameswari715@gmail.com\n"
     ]
    }
   ],
   "source": [
    "file=\"contacts.txt\"\n",
    "def csvtolist(file):\n",
    "    with open(file,'r') as f:\n",
    "        s=f.readlines()\n",
    "        print(s)\n",
    "        print(s[1])\n",
    "csvtolist(file)"
   ]
  },
  {
   "cell_type": "markdown",
   "metadata": {},
   "source": [
    "## csv to list"
   ]
  },
  {
   "cell_type": "code",
   "execution_count": 23,
   "metadata": {},
   "outputs": [
    {
     "data": {
      "text/plain": [
       "[['name', '6281717221', 'kameswaribhavya@gmail.com\\n'],\n",
       " ['name1', '8317571623', 'akameswari715@gmail.com']]"
      ]
     },
     "execution_count": 23,
     "metadata": {},
     "output_type": "execute_result"
    }
   ],
   "source": [
    "file=\"contacts.txt\"\n",
    "def csvtolist(file):\n",
    "    l=[]\n",
    "    with open(file,'r') as f:\n",
    "        for line in f:\n",
    "            l.append(line.split(\",\"))\n",
    "    return l\n",
    "    #print(l)\n",
    "    #print(l[0][1])\n",
    "    #print(l[0][2])\n",
    "csvtolist(file)"
   ]
  },
  {
   "cell_type": "markdown",
   "metadata": {},
   "source": [
    "## list to csv"
   ]
  },
  {
   "cell_type": "code",
   "execution_count": 24,
   "metadata": {},
   "outputs": [
    {
     "name": "stdout",
     "output_type": "stream",
     "text": [
      "name,6281717221,kameswaribhavya@gmail.com\n",
      "\n",
      "name,6281717221,kameswaribhavya@gmail.com\n",
      "name1,8317571623,akameswari715@gmail.com\n"
     ]
    }
   ],
   "source": [
    "def listtocsv(file):\n",
    "    d=csvtolist(file)\n",
    "    s=\"\"\n",
    "    for i in d:\n",
    "        s+=\",\".join(i)\n",
    "        print(s)\n",
    "listtocsv(file)\n"
   ]
  },
  {
   "cell_type": "code",
   "execution_count": 33,
   "metadata": {},
   "outputs": [
    {
     "name": "stdout",
     "output_type": "stream",
     "text": [
      "[['name', '6281717221', 'kameswaribhavya@gmail.com\\n'], ['name1', '8317571623', 'akameswari715@gmail.com\\n'], ['bhavya', '7893132622', 'bhavyakameswari@gmail.com']]\n",
      "[['name', '6281717221', 'kameswaribhavya@gmail.com\\n'], ['name1', '8317571623', 'akameswari715@gmail.com\\n'], ['bhavya', '7893132622', 'bhavyakameswari@gmail.com']]\n",
      "contact already exists\n"
     ]
    }
   ],
   "source": [
    "import re\n",
    "def phoneval(no):\n",
    "    pattern='^[6789][0-9]{9}$|^[6-9][0-9]{9}$|^[0][6-9][0-9]{9}$'\n",
    "    if re.match(pattern,str(no)):\n",
    "        return True\n",
    "    else:\n",
    "        return False\n",
    "def emailval(email):\n",
    "    pattern='^([0-9]|[a-z]|[A-Z])([0-9]|[a-z]|[A-Z]|[_]){6,14}([0-9]|[a-z])@[a-z]{2,10}.[.][a-z]{2,4}$'\n",
    "    if re.match(pattern,str(email)):\n",
    "        return True\n",
    "    else:\n",
    "        return False\n",
    "def searchcontact(name,file):\n",
    "    s=csvtolist(file)\n",
    "    print(s)\n",
    "    for i in s:\n",
    "        if i[0]==name:\n",
    "            return 1\n",
    "        #else:\n",
    "    return 0\n",
    "searchcontact(\"name\",\"contacts.txt\")\n",
    "def addcontact(name,no,email,file):\n",
    "    if searchcontact(name,file)==0:\n",
    "        if phoneval(no)==1:\n",
    "            if emailval(email)==1:\n",
    "                with open(file,'a') as f:\n",
    "                    f.write(\"\\n\"+name+\",\"+no+\",\"+email)\n",
    "                    print(\"contact added successfully\")\n",
    "    else:\n",
    "        print(\"contact already exists\")\n",
    "addcontact(\"bhavya\",\"7893132622\",\"bhavyakameswari@gmail.com\",\"contacts.txt\")"
   ]
  },
  {
   "cell_type": "markdown",
   "metadata": {},
   "source": [
    "## Functional Programming"
   ]
  },
  {
   "cell_type": "code",
   "execution_count": 36,
   "metadata": {},
   "outputs": [],
   "source": [
    "## Ex procedure -c\n",
    "## Scripting  -php,java,python,shell\n",
    "## Structured  -python java"
   ]
  },
  {
   "cell_type": "markdown",
   "metadata": {},
   "source": [
    "## List or Dictionaries or Tuples Sets Comphrehension"
   ]
  },
  {
   "cell_type": "code",
   "execution_count": 40,
   "metadata": {},
   "outputs": [
    {
     "name": "stdout",
     "output_type": "stream",
     "text": [
      "10\n",
      "1 2 3 4 5 6 7 8 9 10 "
     ]
    }
   ],
   "source": [
    "## Print n natural numbers\n",
    "n=int(input())\n",
    "for i in range(1,n+1):\n",
    "    print(i,end=\" \")"
   ]
  },
  {
   "cell_type": "code",
   "execution_count": 41,
   "metadata": {},
   "outputs": [],
   "source": [
    "## List comprehension\n",
    "## ==>expression for list in item condition"
   ]
  },
  {
   "cell_type": "code",
   "execution_count": 42,
   "metadata": {},
   "outputs": [
    {
     "name": "stdout",
     "output_type": "stream",
     "text": [
      "10\n"
     ]
    },
    {
     "data": {
      "text/plain": [
       "[1, 2, 3, 4, 5, 6, 7, 8, 9, 10]"
      ]
     },
     "execution_count": 42,
     "metadata": {},
     "output_type": "execute_result"
    }
   ],
   "source": [
    "n=int(input())\n",
    "li=[i for i in range(1,n+1)]\n",
    "li"
   ]
  },
  {
   "cell_type": "code",
   "execution_count": 44,
   "metadata": {},
   "outputs": [
    {
     "name": "stdout",
     "output_type": "stream",
     "text": [
      "<class 'str'>\n",
      "a p s s d c "
     ]
    }
   ],
   "source": [
    "x=\"apssdc\"\n",
    "print(type(x))\n",
    "for i in x:\n",
    "    print(i,end=\" \")"
   ]
  },
  {
   "cell_type": "code",
   "execution_count": 45,
   "metadata": {},
   "outputs": [
    {
     "data": {
      "text/plain": [
       "['a', 'p', 's', 's', 'd', 'c']"
      ]
     },
     "execution_count": 45,
     "metadata": {},
     "output_type": "execute_result"
    }
   ],
   "source": [
    "l=[s for s in x]\n",
    "l"
   ]
  },
  {
   "cell_type": "code",
   "execution_count": 46,
   "metadata": {},
   "outputs": [
    {
     "data": {
      "text/plain": [
       "'GOOGLE.COM'"
      ]
     },
     "execution_count": 46,
     "metadata": {},
     "output_type": "execute_result"
    }
   ],
   "source": [
    "s=\"google.com\"\n",
    "a=s.upper()\n",
    "a"
   ]
  },
  {
   "cell_type": "code",
   "execution_count": 47,
   "metadata": {},
   "outputs": [
    {
     "data": {
      "text/plain": [
       "['G', 'O', 'O', 'G', 'L', 'E', '.', 'C', 'O', 'M']"
      ]
     },
     "execution_count": 47,
     "metadata": {},
     "output_type": "execute_result"
    }
   ],
   "source": [
    "f=[i.upper() for i in s]\n",
    "f"
   ]
  },
  {
   "cell_type": "code",
   "execution_count": 50,
   "metadata": {},
   "outputs": [
    {
     "name": "stdout",
     "output_type": "stream",
     "text": [
      "1 2 3 "
     ]
    }
   ],
   "source": [
    "x=\"123abc\"\n",
    "for i in x:\n",
    "    if i.isdigit():\n",
    "        print(i,end=\" \")"
   ]
  },
  {
   "cell_type": "code",
   "execution_count": 51,
   "metadata": {},
   "outputs": [
    {
     "name": "stdout",
     "output_type": "stream",
     "text": [
      "a b c "
     ]
    }
   ],
   "source": [
    "for i in x:\n",
    "    if i.isalpha():\n",
    "        print(i,end=\" \")"
   ]
  },
  {
   "cell_type": "code",
   "execution_count": 52,
   "metadata": {},
   "outputs": [
    {
     "name": "stdout",
     "output_type": "stream",
     "text": [
      "['a', 'b', 'c']\n",
      "['1', '2', '3']\n"
     ]
    }
   ],
   "source": [
    "ls=[n for n in x if n.isalpha()]\n",
    "l=[n for n in x if n.isdigit()]\n",
    "print(ls)\n",
    "print(l)"
   ]
  },
  {
   "cell_type": "markdown",
   "metadata": {},
   "source": [
    "## print the first 10 numbers sqrt in a list"
   ]
  },
  {
   "cell_type": "code",
   "execution_count": 66,
   "metadata": {},
   "outputs": [
    {
     "data": {
      "text/plain": [
       "[1.0, 1.4142135623730951, 1.7320508075688772, 2.0, 2.23606797749979]"
      ]
     },
     "execution_count": 66,
     "metadata": {},
     "output_type": "execute_result"
    }
   ],
   "source": [
    "import math\n",
    "n=5\n",
    "l=[]\n",
    "for i in range(1,n+1):\n",
    "    l.append(math.sqrt(i))\n",
    "l"
   ]
  },
  {
   "cell_type": "code",
   "execution_count": 67,
   "metadata": {},
   "outputs": [
    {
     "data": {
      "text/plain": [
       "[1.0, 1.4142135623730951, 1.7320508075688772, 2.0, 2.23606797749979]"
      ]
     },
     "execution_count": 67,
     "metadata": {},
     "output_type": "execute_result"
    }
   ],
   "source": [
    "li=[math.sqrt(n) for n in range(1,n+1)]\n",
    "li"
   ]
  },
  {
   "cell_type": "code",
   "execution_count": 70,
   "metadata": {},
   "outputs": [
    {
     "data": {
      "text/plain": [
       "[441, 484, 529, 576, 625, 676, 729, 784, 841, 900]"
      ]
     },
     "execution_count": 70,
     "metadata": {},
     "output_type": "execute_result"
    }
   ],
   "source": [
    "k=[i*i for i in range(21,31)] #double\n",
    "k"
   ]
  },
  {
   "cell_type": "code",
   "execution_count": 77,
   "metadata": {},
   "outputs": [
    {
     "data": {
      "text/plain": [
       "[68921, 74088, 79507, 85184, 91125, 97336, 103823, 110592, 117649, 125000]"
      ]
     },
     "execution_count": 77,
     "metadata": {},
     "output_type": "execute_result"
    }
   ],
   "source": [
    "a=[i**3 for i in range(41,51)] # cubes\n",
    "a"
   ]
  },
  {
   "cell_type": "code",
   "execution_count": 102,
   "metadata": {},
   "outputs": [
    {
     "name": "stdout",
     "output_type": "stream",
     "text": [
      "[1, 2, 6, 24, 120]\n"
     ]
    }
   ],
   "source": [
    "## function to find out factorial of a number\n",
    "def factorial(n):\n",
    "    l=[]\n",
    "    a=1\n",
    "    for i in range(1,n+1):\n",
    "        a=a*i\n",
    "        l.append(a)\n",
    "    print(l)\n",
    "factorial(5)"
   ]
  },
  {
   "cell_type": "code",
   "execution_count": 103,
   "metadata": {},
   "outputs": [
    {
     "name": "stdout",
     "output_type": "stream",
     "text": [
      "[]\n",
      "[1]\n",
      "[1, 2]\n",
      "[1, 2, 6]\n",
      "[1, 2, 6, 24]\n"
     ]
    }
   ],
   "source": [
    "b=[factorial(i) for i in range(5)]\n"
   ]
  },
  {
   "cell_type": "code",
   "execution_count": 6,
   "metadata": {},
   "outputs": [
    {
     "name": "stdout",
     "output_type": "stream",
     "text": [
      "[12, 14, 16, 18, 20]\n",
      "[11, 13, 15, 17, 19]\n"
     ]
    }
   ],
   "source": [
    "## even odd\n",
    "a=[i for i in range(11,21) if i%2==0]\n",
    "b=[i for i in range(11,21) if i%2!=0]\n",
    "print(a)\n",
    "print(b)"
   ]
  },
  {
   "cell_type": "code",
   "execution_count": 8,
   "metadata": {},
   "outputs": [
    {
     "name": "stdout",
     "output_type": "stream",
     "text": [
      "odd 11\n",
      "even 12\n",
      "odd 13\n",
      "even 14\n",
      "odd 15\n",
      "even 16\n",
      "odd 17\n",
      "even 18\n",
      "odd 19\n",
      "even 20\n"
     ]
    }
   ],
   "source": [
    "## even odd \n",
    "for i in range(11,21):\n",
    "    if i%2==0:\n",
    "        print(\"even\",i)\n",
    "    if i%2!=0:\n",
    "        print(\"odd\",i)"
   ]
  },
  {
   "cell_type": "code",
   "execution_count": 9,
   "metadata": {},
   "outputs": [
    {
     "name": "stdout",
     "output_type": "stream",
     "text": [
      "['odd', 'even', 'odd', 'even', 'odd', 'even', 'odd', 'even', 'odd', 'even']\n",
      "[11, 12, 13, 14, 15, 16, 17, 18, 19, 20]\n"
     ]
    }
   ],
   "source": [
    "h=[\"even\" if i%2==0 else \"odd\" for i in range(11,21)]\n",
    "h1=[i if i%2==0 else i for i in range(11,21)]\n",
    "print(h)\n",
    "print(h1)"
   ]
  },
  {
   "cell_type": "code",
   "execution_count": 11,
   "metadata": {},
   "outputs": [
    {
     "data": {
      "text/plain": [
       "[10, 20]"
      ]
     },
     "execution_count": 11,
     "metadata": {},
     "output_type": "execute_result"
    }
   ],
   "source": [
    "q=[i for i in range(1,20+1)  if i%2==0 if i%5==0]\n",
    "q"
   ]
  },
  {
   "cell_type": "code",
   "execution_count": 20,
   "metadata": {},
   "outputs": [
    {
     "name": "stdout",
     "output_type": "stream",
     "text": [
      "[2000, 2004, 2008, 2012, 2016]\n"
     ]
    }
   ],
   "source": [
    "a=[i for i in range(2000,2020) if i%4==0 and i%100!=0 or i%400==0]\n",
    "print(a)"
   ]
  },
  {
   "cell_type": "markdown",
   "metadata": {},
   "source": [
    "## lambda"
   ]
  },
  {
   "cell_type": "code",
   "execution_count": 21,
   "metadata": {},
   "outputs": [
    {
     "name": "stdout",
     "output_type": "stream",
     "text": [
      "16\n"
     ]
    }
   ],
   "source": [
    "## anonymous function\n",
    "## syntax -----> lambda arguments:expression()\n",
    "def square(n):\n",
    "    n**2\n",
    "square(3)\n",
    "d=lambda n:n**2\n",
    "print(d(4))"
   ]
  },
  {
   "cell_type": "code",
   "execution_count": 23,
   "metadata": {},
   "outputs": [
    {
     "name": "stdout",
     "output_type": "stream",
     "text": [
      "125\n"
     ]
    }
   ],
   "source": [
    "def cube(n):\n",
    "    n**3\n",
    "cube(3)\n",
    "d=lambda n:n**3\n",
    "print(d(5))"
   ]
  },
  {
   "cell_type": "code",
   "execution_count": 25,
   "metadata": {},
   "outputs": [
    {
     "name": "stdout",
     "output_type": "stream",
     "text": [
      "125\n"
     ]
    }
   ],
   "source": [
    "a=lambda c:c**3\n",
    "print(a(5))"
   ]
  },
  {
   "cell_type": "code",
   "execution_count": 26,
   "metadata": {},
   "outputs": [
    {
     "name": "stdout",
     "output_type": "stream",
     "text": [
      "[1, 4, 9, 16, 25]\n"
     ]
    }
   ],
   "source": [
    "l=[1,2,3,4,5]\n",
    "l1=[]\n",
    "for j in range(len(l)):\n",
    "    a=l[j]**2\n",
    "    l1.append(a)\n",
    "print(l1)"
   ]
  },
  {
   "cell_type": "code",
   "execution_count": 29,
   "metadata": {},
   "outputs": [
    {
     "data": {
      "text/plain": [
       "[1, 4, 9, 16, 25]"
      ]
     },
     "execution_count": 29,
     "metadata": {},
     "output_type": "execute_result"
    }
   ],
   "source": [
    "a=[l[i]**2 for i in range(len(l))]\n",
    "a"
   ]
  },
  {
   "cell_type": "markdown",
   "metadata": {},
   "source": [
    "## Iterators"
   ]
  },
  {
   "cell_type": "code",
   "execution_count": 37,
   "metadata": {},
   "outputs": [
    {
     "name": "stdout",
     "output_type": "stream",
     "text": [
      "1\n",
      "2\n",
      "3\n",
      "4\n",
      "5\n"
     ]
    }
   ],
   "source": [
    "l=[1,2,3,4,5]\n",
    "for i in l:\n",
    "    print(i)"
   ]
  },
  {
   "cell_type": "code",
   "execution_count": 39,
   "metadata": {},
   "outputs": [
    {
     "name": "stdout",
     "output_type": "stream",
     "text": [
      "1\n",
      "2\n",
      "3\n",
      "4\n",
      "5\n"
     ]
    }
   ],
   "source": [
    "## iter(),next()\n",
    "a=iter(l)\n",
    "print(next(a))\n",
    "print(next(a))\n",
    "print(next(a))\n",
    "print(next(a))\n",
    "print(next(a))"
   ]
  },
  {
   "cell_type": "markdown",
   "metadata": {},
   "source": [
    "## Generators\n"
   ]
  },
  {
   "cell_type": "code",
   "execution_count": 47,
   "metadata": {},
   "outputs": [
    {
     "name": "stdout",
     "output_type": "stream",
     "text": [
      "5\n",
      "8\n",
      "5\n",
      "8\n"
     ]
    }
   ],
   "source": [
    "## Yield \n",
    "def add(a,b):\n",
    "    c=a+b\n",
    "    yield c\n",
    "    a+=1\n",
    "    b+=2\n",
    "    c=a+b\n",
    "    yield c\n",
    "d=add(2,3)\n",
    "print(next(d))\n",
    "print(next(d))\n",
    "for i in add(2,3):\n",
    "    print(i)\n"
   ]
  },
  {
   "cell_type": "markdown",
   "metadata": {},
   "source": [
    "## Map"
   ]
  },
  {
   "cell_type": "code",
   "execution_count": 52,
   "metadata": {},
   "outputs": [
    {
     "name": "stdout",
     "output_type": "stream",
     "text": [
      "[1, 4, 9, 16, 25]\n"
     ]
    }
   ],
   "source": [
    "## syntax---map(fun,iterable)\n",
    "def square(n):\n",
    "    return n**2\n",
    "l=[1,2,3,4,5]\n",
    "print(list(map(square,l)))"
   ]
  },
  {
   "cell_type": "code",
   "execution_count": 53,
   "metadata": {},
   "outputs": [
    {
     "name": "stdout",
     "output_type": "stream",
     "text": [
      "[1, 4, 9, 16, 25]\n"
     ]
    }
   ],
   "source": [
    "l=[1,2,3,4,5]\n",
    "print(list(map(lambda x:x**2,l)))"
   ]
  },
  {
   "cell_type": "code",
   "execution_count": 57,
   "metadata": {},
   "outputs": [
    {
     "name": "stdout",
     "output_type": "stream",
     "text": [
      "[5, 7, 9]\n"
     ]
    }
   ],
   "source": [
    "## addition of two numbers\n",
    "t=(1,2,3)\n",
    "t1=(4,5,6)\n",
    "a=map(lambda a,b:a+b,t,t1)\n",
    "print(list(a))"
   ]
  },
  {
   "cell_type": "markdown",
   "metadata": {},
   "source": [
    "## Filter"
   ]
  },
  {
   "cell_type": "code",
   "execution_count": 60,
   "metadata": {},
   "outputs": [
    {
     "data": {
      "text/plain": [
       "[2, 4, 6, 8]"
      ]
     },
     "execution_count": 60,
     "metadata": {},
     "output_type": "execute_result"
    }
   ],
   "source": [
    "## filter(fun,iterable)\n",
    "l=[1,2,3,4,5,6,7,8]\n",
    "a=list(filter(lambda x:x%2==0,l))\n",
    "a"
   ]
  },
  {
   "cell_type": "code",
   "execution_count": 75,
   "metadata": {},
   "outputs": [
    {
     "name": "stdout",
     "output_type": "stream",
     "text": [
      "[1, 2, 3]\n"
     ]
    }
   ],
   "source": [
    "b=[1,2,3,'a','b']\n",
    "l1=[]\n",
    "for i in l:\n",
    "    if str(i).isdigit():\n",
    "        l1.append(i)\n",
    "print(l1)\n",
    "def digit(l1):\n",
    "    for i in l:\n",
    "        if str(l).isdigit():\n",
    "            return True\n",
    "    return False\n",
    "a=list(filter(digit,l1))\n"
   ]
  },
  {
   "cell_type": "code",
   "execution_count": 7,
   "metadata": {},
   "outputs": [
    {
     "name": "stdout",
     "output_type": "stream",
     "text": [
      "[2, 3, 5, 7]\n"
     ]
    }
   ],
   "source": [
    "\n",
    "def prime(n):\n",
    "    fact=0\n",
    "    for i in range(1,n+1):\n",
    "        if n%i==0:\n",
    "            fact=fact+1\n",
    "    if fact==2: \n",
    "        return 1\n",
    "    return 0\n",
    "print(list(filter(prime,l)))"
   ]
  },
  {
   "cell_type": "code",
   "execution_count": null,
   "metadata": {},
   "outputs": [],
   "source": []
  }
 ],
 "metadata": {
  "kernelspec": {
   "display_name": "Python 3",
   "language": "python",
   "name": "python3"
  },
  "language_info": {
   "codemirror_mode": {
    "name": "ipython",
    "version": 3
   },
   "file_extension": ".py",
   "mimetype": "text/x-python",
   "name": "python",
   "nbconvert_exporter": "python",
   "pygments_lexer": "ipython3",
   "version": "3.7.3"
  }
 },
 "nbformat": 4,
 "nbformat_minor": 2
}
