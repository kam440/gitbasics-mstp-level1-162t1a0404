{
 "cells": [
  {
   "cell_type": "code",
   "execution_count": 5,
   "metadata": {},
   "outputs": [
    {
     "name": "stdout",
     "output_type": "stream",
     "text": [
      "28\n",
      "problrm solving using python\n",
      "nohtyp gnisu gnivlos mrlborp\n",
      "['problrm', 'solving', 'using', 'python']\n",
      "problemsolvingusingpython\n",
      "problrm solving using python2\n"
     ]
    }
   ],
   "source": [
    "#2.Take a string “Problem Solving Using Python” \n",
    "#Find the length of the string \n",
    "#Change the string to lowercase \n",
    "#Print the string in reverse order \n",
    "#Split the string\n",
    "#Print the string without spaces \n",
    "#Find how many times “s” is repeated in a given string \n",
    "s=\"problrm solving using python\"\n",
    "print(len(s))\n",
    "print(s.lower())\n",
    "print(s[-1::-1])\n",
    "print(s.split())\n",
    "for i in range(0,len(s)):\n",
    "    print(s[i],end=\"\")\n",
    "print(s.count('s'))"
   ]
  },
  {
   "cell_type": "code",
   "execution_count": 6,
   "metadata": {},
   "outputs": [
    {
     "name": "stdout",
     "output_type": "stream",
     "text": [
      "2\n"
     ]
    }
   ],
   "source": [
    "#Take a string “python programming by python platforms”\n",
    "#Find how many times “python” is repeated\n",
    "x=\"python programming by python platforms\"\n",
    "print(x.count('python'))"
   ]
  },
  {
   "cell_type": "code",
   "execution_count": 2,
   "metadata": {},
   "outputs": [
    {
     "name": "stdout",
     "output_type": "stream",
     "text": [
      "resta$t\n"
     ]
    }
   ],
   "source": [
    "#1.Write a Python program to get a string from a given string where all occurrences of its first char have been changed to '$', except the first char itself. \n",
    "#Sample String : 'restart'\n",
    "#Expected Result : 'resta$t'\n",
    "s=\"restart\"\n",
    "a1=s[0]\n",
    "b1=s[1:]\n",
    "y=b1.replace('r','$',1)\n",
    "print(a1+y)\n",
    "\n"
   ]
  },
  {
   "cell_type": "code",
   "execution_count": null,
   "metadata": {},
   "outputs": [],
   "source": []
  }
 ],
 "metadata": {
  "kernelspec": {
   "display_name": "Python 3",
   "language": "python",
   "name": "python3"
  },
  "language_info": {
   "codemirror_mode": {
    "name": "ipython",
    "version": 3
   },
   "file_extension": ".py",
   "mimetype": "text/x-python",
   "name": "python",
   "nbconvert_exporter": "python",
   "pygments_lexer": "ipython3",
   "version": "3.7.3"
  }
 },
 "nbformat": 4,
 "nbformat_minor": 2
}
