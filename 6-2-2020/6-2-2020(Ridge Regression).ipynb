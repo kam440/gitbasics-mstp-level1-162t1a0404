{
 "cells": [
  {
   "cell_type": "markdown",
   "metadata": {},
   "source": [
    "## MACHINE LEARNING"
   ]
  },
  {
   "cell_type": "markdown",
   "metadata": {},
   "source": [
    "Linear reggression=y=f(x)\n",
    "y=mx+c         ##m=slope c=cofficient/intercept\n",
    "y=b1x+b0\n",
    "Root Mean Square Error:\n",
    "RMSE= summation(x-x_mean)(y-y mean)/summation(x-x_mean)^^2*y[b0]\n",
    "  R2 score=summation(y-predict-y_mean)^2\n",
    "  summation(y-y_mean)^2"
   ]
  },
  {
   "cell_type": "code",
   "execution_count": 9,
   "metadata": {},
   "outputs": [],
   "source": [
    "#polinomial ----Multiple degree =ax2+bx+c\n",
    "from sklearn.preprocessing import PolynomialFeatures\n",
    "import numpy as np"
   ]
  },
  {
   "cell_type": "code",
   "execution_count": 17,
   "metadata": {},
   "outputs": [
    {
     "name": "stdout",
     "output_type": "stream",
     "text": [
      "[[ 0.78553876]\n",
      " [11.09526703]\n",
      " [17.33142218]\n",
      " [ 7.28421134]\n",
      " [17.14416536]\n",
      " [ 1.47052043]\n",
      " [ 0.80149414]\n",
      " [ 1.67595186]\n",
      " [28.97251573]\n",
      " [13.97034926]\n",
      " [12.77403728]\n",
      " [37.59347179]\n",
      " [ 0.64248779]\n",
      " [ 3.37820098]\n",
      " [22.21348452]\n",
      " [18.32593601]\n",
      " [ 0.8352303 ]\n",
      " [ 1.12718085]\n",
      " [ 9.85832124]\n",
      " [31.22046683]\n",
      " [12.06713621]\n",
      " [ 9.74738092]\n",
      " [ 0.98137376]\n",
      " [23.50019912]\n",
      " [ 0.81469511]\n",
      " [ 4.12598439]\n",
      " [ 3.44459316]\n",
      " [ 1.85747239]\n",
      " [ 0.85169148]\n",
      " [ 1.61954309]\n",
      " [26.37124931]\n",
      " [ 4.74359489]\n",
      " [26.16709133]\n",
      " [16.43994333]\n",
      " [ 2.66165532]\n",
      " [ 5.97394198]\n",
      " [25.62036267]\n",
      " [11.26815312]\n",
      " [22.29489997]\n",
      " [27.7045947 ]\n",
      " [ 4.16661603]\n",
      " [ 6.80998931]\n",
      " [ 0.83692527]\n",
      " [29.21826137]\n",
      " [ 7.84782879]\n",
      " [ 0.38958986]\n",
      " [ 0.38271061]\n",
      " [27.13489829]\n",
      " [20.17712249]\n",
      " [ 1.18423773]\n",
      " [ 4.31074718]\n",
      " [ 0.21136156]\n",
      " [ 1.42481807]\n",
      " [ 1.74564395]\n",
      " [ 7.48294955]\n",
      " [ 2.04569017]\n",
      " [ 4.8308828 ]\n",
      " [ 5.614565  ]\n",
      " [20.6024146 ]\n",
      " [ 0.26782913]\n",
      " [ 6.28964263]\n",
      " [35.45156195]\n",
      " [14.14257686]\n",
      " [ 8.905386  ]\n",
      " [ 2.08229343]\n",
      " [18.58738065]\n",
      " [34.26931367]\n",
      " [ 2.35952728]\n",
      " [32.19712844]\n",
      " [38.85508475]\n",
      " [24.88471334]\n",
      " [ 3.38902269]\n",
      " [ 6.90266148]\n",
      " [16.43302633]\n",
      " [ 8.28855484]\n",
      " [32.83066085]\n",
      " [10.31481769]\n",
      " [18.13265989]\n",
      " [14.92143699]\n",
      " [ 7.37125984]\n",
      " [22.47017089]\n",
      " [30.86694076]\n",
      " [13.61270882]\n",
      " [36.13206738]\n",
      " [32.14393959]\n",
      " [23.60398889]\n",
      " [ 0.69693548]\n",
      " [24.21304928]\n",
      " [ 1.47524006]\n",
      " [13.20974172]\n",
      " [32.81178988]\n",
      " [ 4.17334317]\n",
      " [19.22411903]\n",
      " [ 4.45468608]\n",
      " [ 8.29554021]\n",
      " [12.03840597]\n",
      " [ 1.83900102]\n",
      " [11.42653799]\n",
      " [14.52959961]\n",
      " [14.67365902]]\n",
      "(100, 1)\n"
     ]
    }
   ],
   "source": [
    "x1=6*np.random.rand(100,1)\n",
    "y1=0.5*x1+x1**2+np.random.rand(100,1)\n",
    "print(y1)\n",
    "print(x1.shape)"
   ]
  },
  {
   "cell_type": "code",
   "execution_count": 12,
   "metadata": {},
   "outputs": [
    {
     "name": "stdout",
     "output_type": "stream",
     "text": [
      "(100, 1)\n"
     ]
    }
   ],
   "source": [
    "print(y1.shape)"
   ]
  },
  {
   "cell_type": "code",
   "execution_count": 14,
   "metadata": {},
   "outputs": [
    {
     "data": {
      "text/plain": [
       "[<matplotlib.lines.Line2D at 0x1fbb0b51588>]"
      ]
     },
     "execution_count": 14,
     "metadata": {},
     "output_type": "execute_result"
    },
    {
     "data": {
      "image/png": "[encoded data removed]",
      "text/plain": [
       "<Figure size 432x288 with 1 Axes>"
      ]
     },
     "metadata": {
      "needs_background": "light"
     },
     "output_type": "display_data"
    }
   ],
   "source": [
    "import matplotlib.pyplot as plt\n",
    "plt.plot(x1,y1,'.')"
   ]
  },
  {
   "cell_type": "code",
   "execution_count": 63,
   "metadata": {},
   "outputs": [],
   "source": [
    "poly=PolynomialFeatures(degree=1)"
   ]
  },
  {
   "cell_type": "code",
   "execution_count": 64,
   "metadata": {},
   "outputs": [
    {
     "data": {
      "text/plain": [
       "array([[1.        , 0.23850096],\n",
       "       [1.        , 2.99114116],\n",
       "       [1.        , 3.80340907],\n",
       "       [1.        , 2.41874375],\n",
       "       [1.        , 3.85815517],\n",
       "       [1.        , 0.92483778],\n",
       "       [1.        , 0.34908105],\n",
       "       [1.        , 0.69271336],\n",
       "       [1.        , 5.13423549],\n",
       "       [1.        , 3.45705865],\n",
       "       [1.        , 3.23296809],\n",
       "       [1.        , 5.84147245],\n",
       "       [1.        , 0.44084218],\n",
       "       [1.        , 1.54834631],\n",
       "       [1.        , 4.37177592],\n",
       "       [1.        , 3.95339791],\n",
       "       [1.        , 0.37407953],\n",
       "       [1.        , 0.50516033],\n",
       "       [1.        , 2.7395852 ],\n",
       "       [1.        , 5.26072251],\n",
       "       [1.        , 3.17974015],\n",
       "       [1.        , 2.83928019],\n",
       "       [1.        , 0.21761397],\n",
       "       [1.        , 4.51488086],\n",
       "       [1.        , 0.18247875],\n",
       "       [1.        , 1.56529158],\n",
       "       [1.        , 1.43875616],\n",
       "       [1.        , 1.11616873],\n",
       "       [1.        , 0.65851189],\n",
       "       [1.        , 0.91639845],\n",
       "       [1.        , 4.82709395],\n",
       "       [1.        , 1.87934388],\n",
       "       [1.        , 4.82079425],\n",
       "       [1.        , 3.79187101],\n",
       "       [1.        , 1.33464535],\n",
       "       [1.        , 2.18838868],\n",
       "       [1.        , 4.80714543],\n",
       "       [1.        , 3.03719807],\n",
       "       [1.        , 4.4265789 ],\n",
       "       [1.        , 4.94047057],\n",
       "       [1.        , 1.66079941],\n",
       "       [1.        , 2.20455276],\n",
       "       [1.        , 0.30882036],\n",
       "       [1.        , 5.10481085],\n",
       "       [1.        , 2.49921822],\n",
       "       [1.        , 0.15655985],\n",
       "       [1.        , 0.06456809],\n",
       "       [1.        , 4.9136514 ],\n",
       "       [1.        , 4.17311865],\n",
       "       [1.        , 0.53888998],\n",
       "       [1.        , 1.58706461],\n",
       "       [1.        , 0.05391475],\n",
       "       [1.        , 0.46619911],\n",
       "       [1.        , 0.96205856],\n",
       "       [1.        , 2.49282146],\n",
       "       [1.        , 0.91598058],\n",
       "       [1.        , 1.75288368],\n",
       "       [1.        , 1.97329504],\n",
       "       [1.        , 4.26825157],\n",
       "       [1.        , 0.28287865],\n",
       "       [1.        , 2.2352519 ],\n",
       "       [1.        , 5.64325054],\n",
       "       [1.        , 3.41714784],\n",
       "       [1.        , 2.57945835],\n",
       "       [1.        , 1.13132612],\n",
       "       [1.        , 4.00849142],\n",
       "       [1.        , 5.53939642],\n",
       "       [1.        , 1.26938629],\n",
       "       [1.        , 5.3884811 ],\n",
       "       [1.        , 5.95041902],\n",
       "       [1.        , 4.65530665],\n",
       "       [1.        , 1.35226369],\n",
       "       [1.        , 2.37974401],\n",
       "       [1.        , 3.69091853],\n",
       "       [1.        , 2.57258769],\n",
       "       [1.        , 5.42623435],\n",
       "       [1.        , 2.94553062],\n",
       "       [1.        , 3.96998827],\n",
       "       [1.        , 3.52791286],\n",
       "       [1.        , 2.39812621],\n",
       "       [1.        , 4.4876658 ],\n",
       "       [1.        , 5.29133785],\n",
       "       [1.        , 3.44447736],\n",
       "       [1.        , 5.69325852],\n",
       "       [1.        , 5.3373548 ],\n",
       "       [1.        , 4.58166539],\n",
       "       [1.        , 0.03778587],\n",
       "       [1.        , 4.65930497],\n",
       "       [1.        , 0.75349389],\n",
       "       [1.        , 3.37383576],\n",
       "       [1.        , 5.42571193],\n",
       "       [1.        , 1.70054691],\n",
       "       [1.        , 4.03311035],\n",
       "       [1.        , 1.77544874],\n",
       "       [1.        , 2.49535965],\n",
       "       [1.        , 3.22791456],\n",
       "       [1.        , 1.06983961],\n",
       "       [1.        , 3.05283303],\n",
       "       [1.        , 3.45237104],\n",
       "       [1.        , 3.57899329]])"
      ]
     },
     "execution_count": 64,
     "metadata": {},
     "output_type": "execute_result"
    }
   ],
   "source": [
    "x_poly=poly.fit_transform(x1)\n",
    "x_poly"
   ]
  },
  {
   "cell_type": "code",
   "execution_count": 65,
   "metadata": {},
   "outputs": [
    {
     "data": {
      "text/plain": [
       "array([0.23850096])"
      ]
     },
     "execution_count": 65,
     "metadata": {},
     "output_type": "execute_result"
    }
   ],
   "source": [
    "x1[0]"
   ]
  },
  {
   "cell_type": "code",
   "execution_count": 66,
   "metadata": {},
   "outputs": [
    {
     "data": {
      "text/plain": [
       "array([1.        , 0.23850096])"
      ]
     },
     "execution_count": 66,
     "metadata": {},
     "output_type": "execute_result"
    }
   ],
   "source": [
    "x_poly[0]"
   ]
  },
  {
   "cell_type": "code",
   "execution_count": 67,
   "metadata": {},
   "outputs": [
    {
     "data": {
      "text/plain": [
       "array([2.41874375])"
      ]
     },
     "execution_count": 67,
     "metadata": {},
     "output_type": "execute_result"
    }
   ],
   "source": [
    "x1[3]"
   ]
  },
  {
   "cell_type": "code",
   "execution_count": 68,
   "metadata": {},
   "outputs": [
    {
     "data": {
      "text/plain": [
       "array([1.        , 2.41874375])"
      ]
     },
     "execution_count": 68,
     "metadata": {},
     "output_type": "execute_result"
    }
   ],
   "source": [
    "x_poly[3]"
   ]
  },
  {
   "cell_type": "code",
   "execution_count": 69,
   "metadata": {},
   "outputs": [
    {
     "data": {
      "text/plain": [
       "PolynomialFeatures(degree=1, include_bias=True, interaction_only=False,\n",
       "                   order='C')"
      ]
     },
     "execution_count": 69,
     "metadata": {},
     "output_type": "execute_result"
    }
   ],
   "source": [
    "poly.fit(x_poly,y1)"
   ]
  },
  {
   "cell_type": "code",
   "execution_count": 70,
   "metadata": {},
   "outputs": [],
   "source": [
    "from sklearn.linear_model import LinearRegression\n",
    "lin=LinearRegression()"
   ]
  },
  {
   "cell_type": "code",
   "execution_count": 71,
   "metadata": {},
   "outputs": [
    {
     "data": {
      "text/plain": [
       "LinearRegression(copy_X=True, fit_intercept=True, n_jobs=None, normalize=False)"
      ]
     },
     "execution_count": 71,
     "metadata": {},
     "output_type": "execute_result"
    }
   ],
   "source": [
    "lin.fit(x_poly,y1)"
   ]
  },
  {
   "cell_type": "code",
   "execution_count": 72,
   "metadata": {},
   "outputs": [
    {
     "data": {
      "text/plain": [
       "array([-4.52648455])"
      ]
     },
     "execution_count": 72,
     "metadata": {},
     "output_type": "execute_result"
    }
   ],
   "source": [
    "lin.intercept_"
   ]
  },
  {
   "cell_type": "code",
   "execution_count": 73,
   "metadata": {},
   "outputs": [
    {
     "data": {
      "text/plain": [
       "array([[0.        , 6.18680728]])"
      ]
     },
     "execution_count": 73,
     "metadata": {},
     "output_type": "execute_result"
    }
   ],
   "source": [
    "lin.coef_"
   ]
  },
  {
   "cell_type": "code",
   "execution_count": 74,
   "metadata": {},
   "outputs": [],
   "source": [
    "y_predictions=lin.predict(x_poly)\n"
   ]
  },
  {
   "cell_type": "code",
   "execution_count": 75,
   "metadata": {},
   "outputs": [
    {
     "data": {
      "image/png": "[encoded data removed]",
      "text/plain": [
       "<Figure size 432x288 with 1 Axes>"
      ]
     },
     "metadata": {
      "needs_background": "light"
     },
     "output_type": "display_data"
    }
   ],
   "source": [
    "plt.scatter(x1,y1,c='g',label=\"before polynomial\")\n",
    "plt.plot(x_poly,y_predictions,c=\"r\",label=\"after polynomial linear regression\")\n",
    "plt.xlabel(\"x1\")\n",
    "plt.ylabel(\"y1\")\n",
    "plt.title(\"linear regression with polynomial features\")\n",
    "plt.legend('best')\n",
    "plt.show()"
   ]
  },
  {
   "cell_type": "code",
   "execution_count": 89,
   "metadata": {},
   "outputs": [],
   "source": [
    "import pandas as pd\n",
    "import numpy as np\n",
    "import matplotlib.pyplot as pl"
   ]
  },
  {
   "cell_type": "code",
   "execution_count": 90,
   "metadata": {},
   "outputs": [
    {
     "data": {
      "text/html": [
       "<div>\n",
       "<style scoped>\n",
       "    .dataframe tbody tr th:only-of-type {\n",
       "        vertical-align: middle;\n",
       "    }\n",
       "\n",
       "    .dataframe tbody tr th {\n",
       "        vertical-align: top;\n",
       "    }\n",
       "\n",
       "    .dataframe thead th {\n",
       "        text-align: right;\n",
       "    }\n",
       "</style>\n",
       "<table border=\"1\" class=\"dataframe\">\n",
       "  <thead>\n",
       "    <tr style=\"text-align: right;\">\n",
       "      <th></th>\n",
       "      <th>TV</th>\n",
       "      <th>radio</th>\n",
       "      <th>newspaper</th>\n",
       "      <th>sales</th>\n",
       "    </tr>\n",
       "  </thead>\n",
       "  <tbody>\n",
       "    <tr>\n",
       "      <th>1</th>\n",
       "      <td>230.1</td>\n",
       "      <td>37.8</td>\n",
       "      <td>69.2</td>\n",
       "      <td>22.1</td>\n",
       "    </tr>\n",
       "    <tr>\n",
       "      <th>2</th>\n",
       "      <td>44.5</td>\n",
       "      <td>39.3</td>\n",
       "      <td>45.1</td>\n",
       "      <td>10.4</td>\n",
       "    </tr>\n",
       "    <tr>\n",
       "      <th>3</th>\n",
       "      <td>17.2</td>\n",
       "      <td>45.9</td>\n",
       "      <td>69.3</td>\n",
       "      <td>9.3</td>\n",
       "    </tr>\n",
       "    <tr>\n",
       "      <th>4</th>\n",
       "      <td>151.5</td>\n",
       "      <td>41.3</td>\n",
       "      <td>58.5</td>\n",
       "      <td>18.5</td>\n",
       "    </tr>\n",
       "    <tr>\n",
       "      <th>5</th>\n",
       "      <td>180.8</td>\n",
       "      <td>10.8</td>\n",
       "      <td>58.4</td>\n",
       "      <td>12.9</td>\n",
       "    </tr>\n",
       "  </tbody>\n",
       "</table>\n",
       "</div>"
      ],
      "text/plain": [
       "      TV  radio  newspaper  sales\n",
       "1  230.1   37.8       69.2   22.1\n",
       "2   44.5   39.3       45.1   10.4\n",
       "3   17.2   45.9       69.3    9.3\n",
       "4  151.5   41.3       58.5   18.5\n",
       "5  180.8   10.8       58.4   12.9"
      ]
     },
     "execution_count": 90,
     "metadata": {},
     "output_type": "execute_result"
    }
   ],
   "source": [
    "ad_df=pd.read_csv(\"advertise.csv\")\n",
    "ad_df.head()"
   ]
  },
  {
   "cell_type": "code",
   "execution_count": 95,
   "metadata": {},
   "outputs": [
    {
     "name": "stdout",
     "output_type": "stream",
     "text": [
      "(200, 3)\n",
      "(200, 1)\n"
     ]
    }
   ],
   "source": [
    "x=ad_df.iloc[:,0].values.reshape(-1,1)\n",
    "#print(x)\n",
    "y=ad_df.iloc[:,3:].values\n",
    "#y=ad_df[\"sales\"].values.reshape(-1,1)\n",
    "#print(y)\n",
    "print(x.shape)\n",
    "print(y.shape)"
   ]
  },
  {
   "cell_type": "code",
   "execution_count": null,
   "metadata": {},
   "outputs": [],
   "source": [
    "from sklearn.linear_model import LinearRegression\n",
    "lin=LinearRegression()\n"
   ]
  },
  {
   "cell_type": "code",
   "execution_count": 96,
   "metadata": {},
   "outputs": [
    {
     "data": {
      "text/plain": [
       "LinearRegression(copy_X=True, fit_intercept=True, n_jobs=None, normalize=False)"
      ]
     },
     "execution_count": 96,
     "metadata": {},
     "output_type": "execute_result"
    }
   ],
   "source": [
    "lin.fit(x,y)\n"
   ]
  },
  {
   "cell_type": "code",
   "execution_count": 98,
   "metadata": {},
   "outputs": [
    {
     "data": {
      "text/plain": [
       "array([[20.52397441],\n",
       "       [12.33785482],\n",
       "       [12.30767078],\n",
       "       [17.59782951],\n",
       "       [13.18867186],\n",
       "       [12.47834763],\n",
       "       [11.72975995],\n",
       "       [12.12295317],\n",
       "       [ 3.72734086],\n",
       "       [12.55084872],\n",
       "       [ 7.0322992 ],\n",
       "       [17.28512918],\n",
       "       [10.57712073],\n",
       "       [ 8.82630048],\n",
       "       [18.43436638],\n",
       "       [20.81929952],\n",
       "       [12.82365674],\n",
       "       [23.22495716],\n",
       "       [ 9.95168206],\n",
       "       [14.16607293],\n",
       "       [18.10076728],\n",
       "       [14.7405382 ],\n",
       "       [ 6.4891503 ],\n",
       "       [16.5459329 ],\n",
       "       [ 8.14651887],\n",
       "       [15.6100386 ],\n",
       "       [14.98951429],\n",
       "       [17.05167344],\n",
       "       [19.41053803],\n",
       "       [ 9.14402389],\n",
       "       [21.6339338 ],\n",
       "       [11.3460929 ],\n",
       "       [ 7.63888314],\n",
       "       [18.86426829],\n",
       "       [ 7.57483051],\n",
       "       [17.00682618],\n",
       "       [23.40590052],\n",
       "       [15.62347779],\n",
       "       [ 9.90868103],\n",
       "       [20.44761039],\n",
       "       [16.37766467],\n",
       "       [17.2959832 ],\n",
       "       [21.59580326],\n",
       "       [13.96385684],\n",
       "       [ 8.88787996],\n",
       "       [15.16152314],\n",
       "       [ 8.87338673],\n",
       "       [21.7226299 ],\n",
       "       [16.26362018],\n",
       "       [ 8.1681656 ],\n",
       "       [12.63121132],\n",
       "       [ 9.33981296],\n",
       "       [20.66297563],\n",
       "       [19.94469957],\n",
       "       [20.37443008],\n",
       "       [21.2926106 ],\n",
       "       [ 8.52771254],\n",
       "       [12.77458802],\n",
       "       [21.89805198],\n",
       "       [18.13348698],\n",
       "       [ 5.74215558],\n",
       "       [22.89067208],\n",
       "       [16.78426073],\n",
       "       [13.21069202],\n",
       "       [16.97773556],\n",
       "       [ 7.84904532],\n",
       "       [ 9.01603163],\n",
       "       [12.0370073 ],\n",
       "       [18.97657924],\n",
       "       [21.10891244],\n",
       "       [17.77949782],\n",
       "       [10.62693815],\n",
       "       [10.36684881],\n",
       "       [ 9.90298206],\n",
       "       [17.32931197],\n",
       "       [11.85832174],\n",
       "       [ 4.47758904],\n",
       "       [13.81190223],\n",
       "       [ 8.81331353],\n",
       "       [ 9.67530328],\n",
       "       [11.44592364],\n",
       "       [14.64794093],\n",
       "       [10.17840799],\n",
       "       [14.42184212],\n",
       "       [20.78136464],\n",
       "       [15.18140789],\n",
       "       [11.59870739],\n",
       "       [15.59378475],\n",
       "       [11.71127101],\n",
       "       [16.92225511],\n",
       "       [ 9.99922965],\n",
       "       [ 4.49631598],\n",
       "       [19.15639616],\n",
       "       [21.22757378],\n",
       "       [10.48212385],\n",
       "       [16.31492112],\n",
       "       [12.63571716],\n",
       "       [15.33707782],\n",
       "       [24.11860723],\n",
       "       [16.94035021],\n",
       "       [13.87595844],\n",
       "       [23.24248685],\n",
       "       [17.64409385],\n",
       "       [14.76221142],\n",
       "       [20.30110878],\n",
       "       [17.93641467],\n",
       "       [ 6.12602215],\n",
       "       [ 7.10850249],\n",
       "       [ 3.58725841],\n",
       "       [19.69293106],\n",
       "       [14.7598741 ],\n",
       "       [21.14027498],\n",
       "       [13.88060985],\n",
       "       [16.40377623],\n",
       "       [15.30509593],\n",
       "       [12.91968895],\n",
       "       [11.97874744],\n",
       "       [ 6.5707774 ],\n",
       "       [15.56609348],\n",
       "       [ 6.82006767],\n",
       "       [14.41010605],\n",
       "       [ 7.83807642],\n",
       "       [13.6264571 ],\n",
       "       [15.0827909 ],\n",
       "       [19.45441306],\n",
       "       [ 9.12734958],\n",
       "       [10.57717411],\n",
       "       [ 6.599669  ],\n",
       "       [22.25549161],\n",
       "       [ 7.88410649],\n",
       "       [10.4276871 ],\n",
       "       [15.57779819],\n",
       "       [ 8.44915012],\n",
       "       [19.26692307],\n",
       "       [11.8368039 ],\n",
       "       [14.00141385],\n",
       "       [11.45348627],\n",
       "       [20.85125198],\n",
       "       [ 9.76842795],\n",
       "       [19.67547632],\n",
       "       [ 9.48964097],\n",
       "       [18.39902932],\n",
       "       [19.24986927],\n",
       "       [ 8.76480262],\n",
       "       [10.09133403],\n",
       "       [ 9.70853872],\n",
       "       [15.29422368],\n",
       "       [23.26086103],\n",
       "       [12.26335941],\n",
       "       [ 9.8272711 ],\n",
       "       [18.36720534],\n",
       "       [10.0095377 ],\n",
       "       [16.3600003 ],\n",
       "       [18.22390132],\n",
       "       [15.50161696],\n",
       "       [ 5.3075589 ],\n",
       "       [15.38485192],\n",
       "       [10.0143112 ],\n",
       "       [10.38419866],\n",
       "       [12.39914823],\n",
       "       [14.21383298],\n",
       "       [13.55914568],\n",
       "       [14.94678206],\n",
       "       [17.35163608],\n",
       "       [11.0682946 ],\n",
       "       [14.22372138],\n",
       "       [10.82439531],\n",
       "       [13.36324677],\n",
       "       [17.1861428 ],\n",
       "       [17.9415563 ],\n",
       "       [ 7.39497997],\n",
       "       [14.35827373],\n",
       "       [ 7.60769238],\n",
       "       [11.97093887],\n",
       "       [13.74435742],\n",
       "       [24.78687031],\n",
       "       [19.9793727 ],\n",
       "       [12.1620464 ],\n",
       "       [16.01099722],\n",
       "       [12.38455495],\n",
       "       [10.5871997 ],\n",
       "       [13.92809918],\n",
       "       [ 6.55467   ],\n",
       "       [24.13310013],\n",
       "       [18.53852096],\n",
       "       [20.80301059],\n",
       "       [ 9.69137313],\n",
       "       [17.07644223],\n",
       "       [18.64430648],\n",
       "       [ 6.05162411],\n",
       "       [12.4891591 ],\n",
       "       [ 8.42401933],\n",
       "       [ 4.46622956],\n",
       "       [18.48695797],\n",
       "       [16.49530044],\n",
       "       [ 5.37034248],\n",
       "       [ 8.16531236],\n",
       "       [12.78592082],\n",
       "       [23.76732149],\n",
       "       [15.17319554]])"
      ]
     },
     "execution_count": 98,
     "metadata": {},
     "output_type": "execute_result"
    }
   ],
   "source": [
    "y_predi=lin.predict(x)\n",
    "y_predi"
   ]
  },
  {
   "cell_type": "code",
   "execution_count": 101,
   "metadata": {},
   "outputs": [
    {
     "data": {
      "text/plain": [
       "array([[14.42991687]])"
      ]
     },
     "execution_count": 101,
     "metadata": {},
     "output_type": "execute_result"
    }
   ],
   "source": [
    "lin.predict([[10.8,58.4,12.9]])"
   ]
  },
  {
   "cell_type": "code",
   "execution_count": 102,
   "metadata": {},
   "outputs": [
    {
     "data": {
      "text/plain": [
       "array([[17.69214154]])"
      ]
     },
     "execution_count": 102,
     "metadata": {},
     "output_type": "execute_result"
    }
   ],
   "source": [
    "lin.predict([[37.8,69.2,22.1]])"
   ]
  },
  {
   "cell_type": "code",
   "execution_count": 103,
   "metadata": {},
   "outputs": [
    {
     "data": {
      "text/plain": [
       "array([[18.09496808]])"
      ]
     },
     "execution_count": 103,
     "metadata": {},
     "output_type": "execute_result"
    }
   ],
   "source": [
    "lin.predict([[45.9,69.3,9.3]])"
   ]
  },
  {
   "cell_type": "code",
   "execution_count": 105,
   "metadata": {},
   "outputs": [
    {
     "data": {
      "text/plain": [
       "array([[15.8387816]])"
      ]
     },
     "execution_count": 105,
     "metadata": {},
     "output_type": "execute_result"
    }
   ],
   "source": [
    "lin.predict([[41.3,58.5,18.5]])"
   ]
  },
  {
   "cell_type": "code",
   "execution_count": 107,
   "metadata": {},
   "outputs": [
    {
     "data": {
      "image/png": "[encoded data removed]",
      "text/plain": [
       "<Figure size 432x288 with 1 Axes>"
      ]
     },
     "metadata": {
      "needs_background": "light"
     },
     "output_type": "display_data"
    }
   ],
   "source": [
    "plt.scatter(ad_df[\"radio\"],y,c='r',label=\"Before Prediction \")\n",
    "plt.plot(x,y_predi,c='y',label=\"After Prediction with LinearRegression\")\n",
    "plt.xlabel(\"Cost of Tv,radio,news paper\")\n",
    "plt.ylabel(\"sales\")\n",
    "plt.title(\"Linear regression\")\n",
    "plt.legend(\"best\")\n",
    "plt.show()"
   ]
  },
  {
   "cell_type": "code",
   "execution_count": 108,
   "metadata": {},
   "outputs": [],
   "source": [
    "from sklearn.preprocessing import PolynomialFeatures\n",
    "poly_feat=PolynomialFeatures()"
   ]
  },
  {
   "cell_type": "code",
   "execution_count": 109,
   "metadata": {},
   "outputs": [
    {
     "data": {
      "text/plain": [
       "PolynomialFeatures(degree=2, include_bias=True, interaction_only=False,\n",
       "                   order='C')"
      ]
     },
     "execution_count": 109,
     "metadata": {},
     "output_type": "execute_result"
    }
   ],
   "source": [
    "x_poly=poly_feat.fit_transform(x)\n",
    "poly_feat.fit(x_poly,y)"
   ]
  },
  {
   "cell_type": "code",
   "execution_count": 110,
   "metadata": {},
   "outputs": [
    {
     "data": {
      "text/plain": [
       "LinearRegression(copy_X=True, fit_intercept=True, n_jobs=None, normalize=False)"
      ]
     },
     "execution_count": 110,
     "metadata": {},
     "output_type": "execute_result"
    }
   ],
   "source": [
    "lin.fit(x_poly,y)"
   ]
  },
  {
   "cell_type": "code",
   "execution_count": 111,
   "metadata": {},
   "outputs": [],
   "source": [
    "predictions=lin.predict(x_poly)"
   ]
  },
  {
   "cell_type": "code",
   "execution_count": 115,
   "metadata": {},
   "outputs": [
    {
     "data": {
      "text/plain": [
       "array([[21.75653244],\n",
       "       [10.49006203],\n",
       "       [ 8.75953072],\n",
       "       [18.60895946],\n",
       "       [13.25055976],\n",
       "       [ 8.15115465],\n",
       "       [10.75890441],\n",
       "       [12.80519827],\n",
       "       [ 5.5922687 ],\n",
       "       [11.61838919],\n",
       "       [ 8.68179159],\n",
       "       [17.37976678],\n",
       "       [ 8.67815936],\n",
       "       [10.08642683],\n",
       "       [19.33310101],\n",
       "       [22.68643108],\n",
       "       [12.67922006],\n",
       "       [24.1486293 ],\n",
       "       [10.28415525],\n",
       "       [14.81713812],\n",
       "       [18.48220076],\n",
       "       [12.53729122],\n",
       "       [ 6.74897747],\n",
       "       [15.76467294],\n",
       "       [ 9.12500081],\n",
       "       [12.08518549],\n",
       "       [15.60426147],\n",
       "       [15.92255869],\n",
       "       [19.20659542],\n",
       "       [10.02255592],\n",
       "       [20.49479569],\n",
       "       [12.23050394],\n",
       "       [ 9.35019625],\n",
       "       [17.4012628 ],\n",
       "       [ 9.22124117],\n",
       "       [12.18499002],\n",
       "       [25.10682987],\n",
       "       [14.09476449],\n",
       "       [ 9.28655267],\n",
       "       [21.61294763],\n",
       "       [16.5590721 ],\n",
       "       [18.23261246],\n",
       "       [20.44445003],\n",
       "       [13.14115942],\n",
       "       [ 8.00361731],\n",
       "       [15.68717027],\n",
       "       [10.18084631],\n",
       "       [23.22677131],\n",
       "       [15.40826561],\n",
       "       [ 9.36935981],\n",
       "       [11.72326053],\n",
       "       [10.45414681],\n",
       "       [22.21014243],\n",
       "       [21.57696171],\n",
       "       [20.10534626],\n",
       "       [23.35052372],\n",
       "       [ 6.75115377],\n",
       "       [13.46202822],\n",
       "       [24.04467393],\n",
       "       [18.68538207],\n",
       "       [ 7.79925047],\n",
       "       [24.48206229],\n",
       "       [15.55073576],\n",
       "       [13.35421087],\n",
       "       [17.41847322],\n",
       "       [ 9.04550611],\n",
       "       [ 8.06217513],\n",
       "       [12.73184831],\n",
       "       [19.02762624],\n",
       "       [22.81346711],\n",
       "       [18.5350192 ],\n",
       "       [11.60256066],\n",
       "       [ 8.35158266],\n",
       "       [10.92823122],\n",
       "       [17.49166176],\n",
       "       [ 8.84225579],\n",
       "       [ 6.62932686],\n",
       "       [14.25905034],\n",
       "       [ 6.35589155],\n",
       "       [10.8145588 ],\n",
       "       [11.41893086],\n",
       "       [12.21765894],\n",
       "       [10.69509577],\n",
       "       [12.9086199 ],\n",
       "       [22.4101834 ],\n",
       "       [15.34988474],\n",
       "       [11.46456255],\n",
       "       [15.8423934 ],\n",
       "       [12.31840573],\n",
       "       [16.82929663],\n",
       "       [10.88832663],\n",
       "       [ 6.75286142],\n",
       "       [20.04902266],\n",
       "       [22.13120175],\n",
       "       [11.38151009],\n",
       "       [17.21792142],\n",
       "       [11.83710272],\n",
       "       [15.67863413],\n",
       "       [25.36522254],\n",
       "       [17.58459269],\n",
       "       [12.18184009],\n",
       "       [23.31869295],\n",
       "       [14.19473738],\n",
       "       [14.88416341],\n",
       "       [21.04322597],\n",
       "       [18.71613965],\n",
       "       [ 7.06501131],\n",
       "       [ 8.96520232],\n",
       "       [ 5.92645617],\n",
       "       [19.34890574],\n",
       "       [13.26604284],\n",
       "       [22.25817061],\n",
       "       [14.11570565],\n",
       "       [16.33674501],\n",
       "       [13.99205001],\n",
       "       [12.4933202 ],\n",
       "       [12.72559299],\n",
       "       [ 8.52919289],\n",
       "       [16.30920906],\n",
       "       [ 6.92371962],\n",
       "       [15.17234429],\n",
       "       [ 7.40250589],\n",
       "       [11.75025329],\n",
       "       [15.40483357],\n",
       "       [20.15103212],\n",
       "       [10.265008  ],\n",
       "       [ 7.32917776],\n",
       "       [ 8.55245961],\n",
       "       [24.37525316],\n",
       "       [ 9.07774433],\n",
       "       [ 6.25068509],\n",
       "       [11.78891924],\n",
       "       [ 6.43795995],\n",
       "       [20.11646712],\n",
       "       [ 9.99796291],\n",
       "       [11.1443274 ],\n",
       "       [ 8.51512201],\n",
       "       [20.30150014],\n",
       "       [ 9.10477107],\n",
       "       [21.00093732],\n",
       "       [10.12063522],\n",
       "       [19.58219073],\n",
       "       [20.05631863],\n",
       "       [10.17343356],\n",
       "       [11.11164135],\n",
       "       [10.51417121],\n",
       "       [13.23041444],\n",
       "       [25.64826881],\n",
       "       [ 9.71561247],\n",
       "       [ 9.21625392],\n",
       "       [15.40770091],\n",
       "       [11.16599192],\n",
       "       [16.64822496],\n",
       "       [19.34961356],\n",
       "       [15.7920893 ],\n",
       "       [ 5.65083747],\n",
       "       [14.95470193],\n",
       "       [10.61466274],\n",
       "       [ 7.53069098],\n",
       "       [13.18633711],\n",
       "       [14.62699026],\n",
       "       [13.31660601],\n",
       "       [15.11219827],\n",
       "       [18.19373751],\n",
       "       [11.88505628],\n",
       "       [11.90703154],\n",
       "       [ 7.87260888],\n",
       "       [12.33988689],\n",
       "       [17.2827788 ],\n",
       "       [14.4368146 ],\n",
       "       [ 8.40019774],\n",
       "       [14.98240002],\n",
       "       [ 7.09284314],\n",
       "       [12.14829316],\n",
       "       [12.01821817],\n",
       "       [27.19077959],\n",
       "       [20.14204394],\n",
       "       [12.34374353],\n",
       "       [11.60621068],\n",
       "       [12.68901477],\n",
       "       [10.98941796],\n",
       "       [12.4918656 ],\n",
       "       [ 8.27196342],\n",
       "       [25.51892461],\n",
       "       [17.52592205],\n",
       "       [22.489915  ],\n",
       "       [10.55126578],\n",
       "       [17.72238822],\n",
       "       [15.57431142],\n",
       "       [ 6.70489603],\n",
       "       [ 9.8531708 ],\n",
       "       [ 9.52757995],\n",
       "       [ 6.3223736 ],\n",
       "       [19.48404504],\n",
       "       [17.1596942 ],\n",
       "       [ 7.21104288],\n",
       "       [ 9.61819997],\n",
       "       [12.81335709],\n",
       "       [25.04103906],\n",
       "       [13.53436396]])"
      ]
     },
     "execution_count": 115,
     "metadata": {},
     "output_type": "execute_result"
    }
   ],
   "source": [
    "y_predictions=lin.predict(x_poly)\n",
    "y_predictions"
   ]
  },
  {
   "cell_type": "code",
   "execution_count": 112,
   "metadata": {},
   "outputs": [
    {
     "data": {
      "text/plain": [
       "array([[ 0.00000000e+00,  5.16525487e-02,  2.10742970e-02,\n",
       "         6.88373531e-03, -1.09702663e-04,  1.10525949e-03,\n",
       "        -4.55155391e-05,  1.11997015e-04,  8.26605896e-05,\n",
       "         1.19125650e-05]])"
      ]
     },
     "execution_count": 112,
     "metadata": {},
     "output_type": "execute_result"
    }
   ],
   "source": [
    "lin.coef_"
   ]
  },
  {
   "cell_type": "code",
   "execution_count": 113,
   "metadata": {},
   "outputs": [
    {
     "data": {
      "text/plain": [
       "array([5.08478167])"
      ]
     },
     "execution_count": 113,
     "metadata": {},
     "output_type": "execute_result"
    }
   ],
   "source": [
    "lin.intercept_"
   ]
  },
  {
   "cell_type": "code",
   "execution_count": 118,
   "metadata": {},
   "outputs": [
    {
     "data": {
      "image/png": "[encoded data removed]",
      "text/plain": [
       "<Figure size 432x288 with 1 Axes>"
      ]
     },
     "metadata": {
      "needs_background": "light"
     },
     "output_type": "display_data"
    }
   ],
   "source": [
    "plt.scatter(ad_df[\"radio\"],y,c='r',label=\"Before Prediction \")\n",
    "plt.plot(x_poly,y_predictions,c='y',label=\"After Prediction with LinearRegression\")\n",
    "plt.xlabel(\"Cost of Tv,radio,news paper\")\n",
    "plt.ylabel(\"sales\")\n",
    "plt.title(\"Linear regression\")\n",
    "plt.legend(\"best\")\n",
    "plt.show()"
   ]
  },
  {
   "cell_type": "markdown",
   "metadata": {},
   "source": [
    "## RIDGE REGRESSION"
   ]
  },
  {
   "cell_type": "code",
   "execution_count": 119,
   "metadata": {},
   "outputs": [],
   "source": [
    "## ridge regression for overfitting-------->Reguralisation(alpha<infinity)\n",
    "## Lasso reghression"
   ]
  },
  {
   "cell_type": "code",
   "execution_count": 120,
   "metadata": {},
   "outputs": [],
   "source": [
    "from sklearn.linear_model import Ridge\n"
   ]
  },
  {
   "cell_type": "code",
   "execution_count": 121,
   "metadata": {},
   "outputs": [],
   "source": [
    "r=Ridge"
   ]
  },
  {
   "cell_type": "code",
   "execution_count": 129,
   "metadata": {},
   "outputs": [
    {
     "name": "stdout",
     "output_type": "stream",
     "text": [
      "[[2.77158465]\n",
      " [4.1413392 ]\n",
      " [4.50502691]\n",
      " [1.84747296]\n",
      " [0.07661527]\n",
      " [3.53757625]\n",
      " [3.95815722]\n",
      " [3.58395515]\n",
      " [1.37377648]\n",
      " [0.20153928]\n",
      " [1.82136931]\n",
      " [1.22173601]\n",
      " [3.88465481]\n",
      " [0.61849558]\n",
      " [3.69069808]\n",
      " [3.0606878 ]\n",
      " [2.38458154]\n",
      " [1.40795165]\n",
      " [3.75168873]\n",
      " [0.99584591]\n",
      " [2.71195739]\n",
      " [4.86693857]\n",
      " [4.91483183]\n",
      " [2.96457575]\n",
      " [4.52940932]\n",
      " [1.16617802]\n",
      " [0.31944727]\n",
      " [1.04359541]\n",
      " [3.8209063 ]\n",
      " [0.29886165]\n",
      " [3.78178672]\n",
      " [0.58606235]\n",
      " [1.10077319]\n",
      " [1.75849166]\n",
      " [3.45631783]\n",
      " [0.64202818]\n",
      " [1.97082387]\n",
      " [1.12372946]\n",
      " [2.94958638]\n",
      " [1.89215238]\n",
      " [1.39088957]\n",
      " [3.25208205]\n",
      " [4.23457199]\n",
      " [0.22777283]\n",
      " [3.28801944]\n",
      " [4.71223465]\n",
      " [3.98706517]\n",
      " [0.11230222]\n",
      " [1.21308952]\n",
      " [2.29081131]\n",
      " [0.86965653]\n",
      " [4.89130535]\n",
      " [3.02212375]\n",
      " [2.50281383]\n",
      " [1.69976422]\n",
      " [1.6993336 ]\n",
      " [1.61280347]\n",
      " [3.77336754]\n",
      " [4.09096411]\n",
      " [1.77635332]\n",
      " [4.51132445]\n",
      " [2.85841704]\n",
      " [3.99312963]\n",
      " [1.46200974]\n",
      " [0.86910636]\n",
      " [2.56706346]\n",
      " [0.96712084]\n",
      " [0.23125234]\n",
      " [4.92283408]\n",
      " [3.68671841]\n",
      " [3.74960863]\n",
      " [2.20059395]\n",
      " [4.67332254]\n",
      " [1.88689185]\n",
      " [2.52891498]\n",
      " [0.02574611]\n",
      " [1.20654157]\n",
      " [2.33033944]\n",
      " [1.00877259]\n",
      " [0.58137637]\n",
      " [0.61584875]\n",
      " [0.52002717]\n",
      " [4.90445794]\n",
      " [1.1981535 ]\n",
      " [4.30460395]\n",
      " [4.19578406]\n",
      " [1.3725634 ]\n",
      " [3.30060871]\n",
      " [4.41598056]\n",
      " [2.94115197]\n",
      " [4.32087657]\n",
      " [0.99070843]\n",
      " [1.76140729]\n",
      " [1.00877234]\n",
      " [2.58097879]\n",
      " [4.92549966]\n",
      " [3.38929513]\n",
      " [3.15992534]\n",
      " [2.28715279]\n",
      " [0.15598715]]\n",
      "[[ 9.68147701]\n",
      " [17.24370623]\n",
      " [19.58330231]\n",
      " [ 5.84434612]\n",
      " [ 0.46460051]\n",
      " [13.55783509]\n",
      " [16.6638862 ]\n",
      " [14.11789024]\n",
      " [ 3.94557888]\n",
      " [ 1.24405905]\n",
      " [ 6.01201435]\n",
      " [ 3.60475616]\n",
      " [15.36810993]\n",
      " [ 1.76533921]\n",
      " [14.51036845]\n",
      " [11.20641918]\n",
      " [ 7.99255074]\n",
      " [ 4.79992817]\n",
      " [15.5212988 ]\n",
      " [ 3.3794598 ]\n",
      " [ 9.47181967]\n",
      " [22.29458085]\n",
      " [22.5861008 ]\n",
      " [10.73791539]\n",
      " [19.52327496]\n",
      " [ 3.07799982]\n",
      " [ 1.49271831]\n",
      " [ 2.97426774]\n",
      " [15.23765674]\n",
      " [ 0.6490425 ]\n",
      " [15.27679719]\n",
      " [ 1.93895912]\n",
      " [ 3.63063431]\n",
      " [ 5.7969352 ]\n",
      " [13.36948743]\n",
      " [ 2.138682  ]\n",
      " [ 6.18292399]\n",
      " [ 3.70038627]\n",
      " [10.4850346 ]\n",
      " [ 5.98908391]\n",
      " [ 3.90494768]\n",
      " [12.57892924]\n",
      " [17.6247238 ]\n",
      " [ 0.88818793]\n",
      " [12.31999799]\n",
      " [21.34405374]\n",
      " [16.00217429]\n",
      " [ 0.38233223]\n",
      " [ 4.01542441]\n",
      " [ 7.24919444]\n",
      " [ 3.09662849]\n",
      " [22.59327869]\n",
      " [11.02038338]\n",
      " [ 8.24638788]\n",
      " [ 5.05293062]\n",
      " [ 5.55202427]\n",
      " [ 5.40052155]\n",
      " [15.55332972]\n",
      " [16.95513398]\n",
      " [ 6.08143697]\n",
      " [19.5662226 ]\n",
      " [10.33165392]\n",
      " [16.17610423]\n",
      " [ 4.09964712]\n",
      " [ 2.74944984]\n",
      " [ 9.17665031]\n",
      " [ 2.73735627]\n",
      " [ 1.19002305]\n",
      " [22.12601917]\n",
      " [14.17317401]\n",
      " [14.84545114]\n",
      " [ 7.35386733]\n",
      " [20.33195124]\n",
      " [ 5.57703053]\n",
      " [ 8.83074557]\n",
      " [ 0.40592052]\n",
      " [ 3.54759342]\n",
      " [ 7.77083474]\n",
      " [ 2.76638195]\n",
      " [ 2.31688497]\n",
      " [ 1.78245009]\n",
      " [ 1.82245054]\n",
      " [22.28845296]\n",
      " [ 3.77339239]\n",
      " [18.0678152 ]\n",
      " [17.40943388]\n",
      " [ 3.81498256]\n",
      " [12.41671928]\n",
      " [19.06236976]\n",
      " [10.4266088 ]\n",
      " [18.09934304]\n",
      " [ 2.82082965]\n",
      " [ 5.19011039]\n",
      " [ 3.27825626]\n",
      " [ 8.79259281]\n",
      " [22.64367394]\n",
      " [12.73266413]\n",
      " [11.80413005]\n",
      " [ 8.05719475]\n",
      " [ 0.39270927]]\n"
     ]
    }
   ],
   "source": [
    "x2=5*np.random.rand(100,1)\n",
    "y2=0.5*x2**2+x2*2+np.random.rand(100,1)\n",
    "print(x2)\n",
    "print(y2)"
   ]
  },
  {
   "cell_type": "code",
   "execution_count": 124,
   "metadata": {},
   "outputs": [
    {
     "data": {
      "text/plain": [
       "(100, 1)"
      ]
     },
     "execution_count": 124,
     "metadata": {},
     "output_type": "execute_result"
    }
   ],
   "source": [
    "x2.shape"
   ]
  },
  {
   "cell_type": "code",
   "execution_count": 125,
   "metadata": {},
   "outputs": [
    {
     "data": {
      "text/plain": [
       "(100, 1)"
      ]
     },
     "execution_count": 125,
     "metadata": {},
     "output_type": "execute_result"
    }
   ],
   "source": [
    "y2.shape"
   ]
  },
  {
   "cell_type": "code",
   "execution_count": 126,
   "metadata": {},
   "outputs": [],
   "source": [
    "r=Ridge(alpha=1,solver=\"choolesky\")"
   ]
  },
  {
   "cell_type": "code",
   "execution_count": 127,
   "metadata": {},
   "outputs": [
    {
     "data": {
      "text/plain": [
       "Ridge(alpha=1, copy_X=True, fit_intercept=True, max_iter=None, normalize=False,\n",
       "      random_state=None, solver='choolesky', tol=0.001)"
      ]
     },
     "execution_count": 127,
     "metadata": {},
     "output_type": "execute_result"
    }
   ],
   "source": [
    "r"
   ]
  },
  {
   "cell_type": "markdown",
   "metadata": {},
   "source": [
    "## Solver:{Auto,svd,choolesky,isqr,sparse_cg,sag,saga}"
   ]
  },
  {
   "cell_type": "code",
   "execution_count": 130,
   "metadata": {},
   "outputs": [
    {
     "data": {
      "text/plain": [
       "(100, 1)"
      ]
     },
     "execution_count": 130,
     "metadata": {},
     "output_type": "execute_result"
    }
   ],
   "source": [
    "y2.shape"
   ]
  },
  {
   "cell_type": "code",
   "execution_count": 131,
   "metadata": {},
   "outputs": [],
   "source": [
    "r=Ridge(alpha=1,solver=\"cholesky\")"
   ]
  },
  {
   "cell_type": "code",
   "execution_count": 132,
   "metadata": {},
   "outputs": [
    {
     "data": {
      "text/plain": [
       "Ridge(alpha=1, copy_X=True, fit_intercept=True, max_iter=None, normalize=False,\n",
       "      random_state=None, solver='cholesky', tol=0.001)"
      ]
     },
     "execution_count": 132,
     "metadata": {},
     "output_type": "execute_result"
    }
   ],
   "source": [
    "r.fit(x2,y2)"
   ]
  },
  {
   "cell_type": "code",
   "execution_count": 133,
   "metadata": {},
   "outputs": [
    {
     "data": {
      "text/plain": [
       "array([[10.87659714]])"
      ]
     },
     "execution_count": 133,
     "metadata": {},
     "output_type": "execute_result"
    }
   ],
   "source": [
    "r.predict([[2.77158465]])"
   ]
  },
  {
   "cell_type": "code",
   "execution_count": 135,
   "metadata": {},
   "outputs": [
    {
     "data": {
      "text/plain": [
       "array([[13.93179142]])"
      ]
     },
     "execution_count": 135,
     "metadata": {},
     "output_type": "execute_result"
    }
   ],
   "source": [
    "r.predict([[3.45631783]])"
   ]
  },
  {
   "cell_type": "code",
   "execution_count": null,
   "metadata": {},
   "outputs": [],
   "source": []
  }
 ],
 "metadata": {
  "kernelspec": {
   "display_name": "Python 3",
   "language": "python",
   "name": "python3"
  },
  "language_info": {
   "codemirror_mode": {
    "name": "ipython",
    "version": 3
   },
   "file_extension": ".py",
   "mimetype": "text/x-python",
   "name": "python",
   "nbconvert_exporter": "python",
   "pygments_lexer": "ipython3",
   "version": "3.7.3"
  }
 },
 "nbformat": 4,
 "nbformat_minor": 2
}
