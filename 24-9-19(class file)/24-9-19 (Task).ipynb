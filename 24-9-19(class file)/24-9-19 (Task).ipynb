{
 "cells": [
  {
   "cell_type": "code",
   "execution_count": 1,
   "metadata": {},
   "outputs": [
    {
     "name": "stdout",
     "output_type": "stream",
     "text": [
      "4566\n",
      "4\n"
     ]
    }
   ],
   "source": [
    "#2.Check the number of digits in a given number\n",
    "def digit(n):\n",
    "    b=len(n)\n",
    "    print(b)\n",
    "n=input()\n",
    "digit(n)"
   ]
  },
  {
   "cell_type": "code",
   "execution_count": 18,
   "metadata": {},
   "outputs": [
    {
     "name": "stdout",
     "output_type": "stream",
     "text": [
      "100\n",
      "10.0\n"
     ]
    }
   ],
   "source": [
    "#4.Calculate the square root of a given number \n",
    "def sqrt(n):\n",
    "    x=(n**(1/2))\n",
    "    print(x)\n",
    "n=int(input())\n",
    "sqrt(n)"
   ]
  },
  {
   "cell_type": "code",
   "execution_count": 9,
   "metadata": {},
   "outputs": [
    {
     "name": "stdout",
     "output_type": "stream",
     "text": [
      "2\n",
      "factor\n"
     ]
    }
   ],
   "source": [
    "#3.Check if the given number is a factor of 1000 \n",
    "def fact(n):\n",
    "    if(1000%n==0):\n",
    "        print(\"factor\")\n",
    "    else:\n",
    "        print(\"not factor\")\n",
    "n=int(input())\n",
    "fact(n)"
   ]
  },
  {
   "cell_type": "code",
   "execution_count": 21,
   "metadata": {},
   "outputs": [
    {
     "name": "stdout",
     "output_type": "stream",
     "text": [
      "7\n",
      "5\n",
      "rectangle\n"
     ]
    }
   ],
   "source": [
    "#5.python program to take values of length and breadth(width) of a rectangle from user and check if it is square or not. . \n",
    "def rect(n):\n",
    "    if(l==b):\n",
    "        print(\"square\")\n",
    "    else:\n",
    "        print(\"rectangle\")\n",
    "l=int(input())\n",
    "b=int(input())\n",
    "rect(n)"
   ]
  },
  {
   "cell_type": "code",
   "execution_count": 27,
   "metadata": {},
   "outputs": [
    {
     "name": "stdout",
     "output_type": "stream",
     "text": [
      "78\n",
      "b\n"
     ]
    }
   ],
   "source": [
    "#6.A school has following rules for grading system:\n",
    "#Below 25 - F\n",
    "#25 to 45 - E\n",
    "#45 to 50 - D\n",
    "#50 to 60 - C\n",
    "#60 to 80 - B\n",
    "#Above 80 - A\n",
    "#Ask user to enter marks and print the corresponding grade. \n",
    "def grade(n):\n",
    "    if(n<25):\n",
    "        print(\"f\")\n",
    "    elif(n>25 and n<45):\n",
    "        print(\"e\")\n",
    "    elif(n>45 and n<50):\n",
    "        print(\"d\")\n",
    "    elif(n>50 and n<60):\n",
    "        print(\"c\")\n",
    "    elif(n>60 and n<80):\n",
    "        print(\"b\")\n",
    "    else:\n",
    "        print(\"a\")\n",
    "n=int(input())\n",
    "grade(n)"
   ]
  },
  {
   "cell_type": "code",
   "execution_count": 11,
   "metadata": {},
   "outputs": [
    {
     "name": "stdout",
     "output_type": "stream",
     "text": [
      "67\n",
      "89\n",
      "43\n",
      "oldest 89\n",
      "young 43\n"
     ]
    }
   ],
   "source": [
    "#7.Take input of age of 3 people by user and determine oldest and youngest among them. \n",
    "ram=int(input())\n",
    "sam=int(input())\n",
    "mam=int(input())\n",
    "if ram>sam and ram>mam:\n",
    "        oldest=ram\n",
    "elif sam>ram and sam>mam:\n",
    "    oldest=sam\n",
    "else:\n",
    "    oldest=mam\n",
    "if ram<sam and ram<mam:\n",
    "        young=ram\n",
    "elif sam<ram and sam<mam:\n",
    "    young=sam\n",
    "else:\n",
    "    young=mam\n",
    "    print(\"oldest\",oldest)\n",
    "    print(\"young\",young)\n",
    "\n",
    "        "
   ]
  },
  {
   "cell_type": "code",
   "execution_count": 29,
   "metadata": {},
   "outputs": [
    {
     "name": "stdout",
     "output_type": "stream",
     "text": [
      "400\n",
      "56\n",
      "14.000000000000002\n",
      "not alloow to exam \n"
     ]
    }
   ],
   "source": [
    "#8.A student will not be allowed to sit in exam if his/her attendance is less than 75%.\n",
    "#Take following input from user Number of classes held,Number of classes attended.\n",
    "#And print percentage of class attended Is student is allowed to sit in exam or not. \n",
    "def student(ch,ca):\n",
    "    n=(((ca/ch)*100))\n",
    "    print(n)\n",
    "    if(n>=75):\n",
    "        print(\"allow to exam\")\n",
    "    else:\n",
    "        print(\"not alloow to exam \")\n",
    "ch=int(input())\n",
    "ca=int(input())\n",
    "student(ch,ca)"
   ]
  },
  {
   "cell_type": "code",
   "execution_count": 3,
   "metadata": {},
   "outputs": [
    {
     "name": "stdout",
     "output_type": "stream",
     "text": [
      "6\n",
      "90\n",
      "8\n",
      "num is present\n"
     ]
    }
   ],
   "source": [
    "#Check if the number exist in a given range (inputs: number(n), range(lower number and upper number) \n",
    "def range(a,b,c):\n",
    "    if(a<c<b):\n",
    "        print(\"num is present\")\n",
    "    else:\n",
    "        print(\"num is not present\")\n",
    "a=int(input())\n",
    "b=int(input())\n",
    "c=int(input())\n",
    "range(a,b,c)"
   ]
  },
  {
   "cell_type": "code",
   "execution_count": null,
   "metadata": {},
   "outputs": [],
   "source": []
  }
 ],
 "metadata": {
  "kernelspec": {
   "display_name": "Python 3",
   "language": "python",
   "name": "python3"
  },
  "language_info": {
   "codemirror_mode": {
    "name": "ipython",
    "version": 3
   },
   "file_extension": ".py",
   "mimetype": "text/x-python",
   "name": "python",
   "nbconvert_exporter": "python",
   "pygments_lexer": "ipython3",
   "version": "3.7.3"
  }
 },
 "nbformat": 4,
 "nbformat_minor": 2
}
