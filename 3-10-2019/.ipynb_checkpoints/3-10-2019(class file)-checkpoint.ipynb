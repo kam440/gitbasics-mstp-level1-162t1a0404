{
 "cells": [
  {
   "cell_type": "markdown",
   "metadata": {},
   "source": [
    "##  File handling in Python"
   ]
  },
  {
   "cell_type": "markdown",
   "metadata": {},
   "source": [
    "1. read--r\n",
    "2. write--w\n",
    "3. append--a\n",
    "4. read&write--r+\n",
    "5. write&read==w+\n",
    "6. append&read--a+\n",
    "7. exclusive write--x"
   ]
  },
  {
   "cell_type": "code",
   "execution_count": null,
   "metadata": {},
   "outputs": [],
   "source": [
    "# file opening\n",
    "# file=open(\"sample.txt\",\"mode\")"
   ]
  },
  {
   "cell_type": "code",
   "execution_count": 6,
   "metadata": {},
   "outputs": [],
   "source": [
    "# create a file and add some content\n",
    "f=open(\"data.txt\",'w')\n",
    "f.write(\"welcome python\")\n",
    "f.write(\"\\nkameswari\\n\")\n",
    "f.close()"
   ]
  },
  {
   "cell_type": "code",
   "execution_count": 9,
   "metadata": {},
   "outputs": [
    {
     "name": "stdout",
     "output_type": "stream",
     "text": [
      "welcome python\n",
      "kameswari\n",
      "\n"
     ]
    }
   ],
   "source": [
    "# print content of a file\n",
    "filedata=open(\"data.txt\",'r')\n",
    "f1=filedata.read()\n",
    "print(f1)\n",
    "filedata.close()"
   ]
  },
  {
   "cell_type": "code",
   "execution_count": 15,
   "metadata": {},
   "outputs": [
    {
     "name": "stdout",
     "output_type": "stream",
     "text": [
      "welcome python\n",
      "kameswari\n",
      "\n"
     ]
    }
   ],
   "source": [
    "# function print data of a file \n",
    "def read(filedata):\n",
    "    filedata=open(\"data.txt\",'r')\n",
    "    f1=filedata.read()\n",
    "    print(f1)\n",
    "read(filedata)\n"
   ]
  },
  {
   "cell_type": "code",
   "execution_count": 23,
   "metadata": {},
   "outputs": [],
   "source": [
    "# function to write data to a file\n",
    "def write_data(f1):\n",
    "     f=open(\"kam.txt\",'w')te(\"\\napssdc mstp\\n\")\n",
    "    f.write(\"welcome python\")\n",
    "    f.write(\"\\nkameswari\\n\")\n",
    "\n",
    "f1=\"kam.txt\"\n",
    "write_data(f1)"
   ]
  },
  {
   "cell_type": "code",
   "execution_count": 28,
   "metadata": {},
   "outputs": [],
   "source": [
    "# append\n",
    "def append(f1):\n",
    "    f=open(\"data.txt\",'a')\n",
    "    f.write(\"\\nmstp apssdc\\n\")\n",
    "    f.close()\n",
    "append(f1)"
   ]
  },
  {
   "cell_type": "code",
   "execution_count": 30,
   "metadata": {},
   "outputs": [
    {
     "name": "stdout",
     "output_type": "stream",
     "text": [
      "welcome python\n",
      "kameswari\n",
      "welcome python\n",
      "kameswari\n",
      "mstp apssdc\n",
      "kameswari\n",
      "mstp apssdc\n",
      "mstp apssdc\n",
      "\n"
     ]
    }
   ],
   "source": [
    "def read_file(f1):\n",
    "    f=open(\"data.txt\",'r')\n",
    "    a=f.read()\n",
    "    print(a)\n",
    "f1=\"data.txt\"\n",
    "read_file(f1)\n",
    "    "
   ]
  },
  {
   "cell_type": "code",
   "execution_count": 31,
   "metadata": {},
   "outputs": [
    {
     "name": "stdout",
     "output_type": "stream",
     "text": [
      "welcome python\n",
      "\n"
     ]
    }
   ],
   "source": [
    "f1=open(\"data.txt\",'r')\n",
    "x=f1.readline()\n",
    "print(x)"
   ]
  },
  {
   "cell_type": "code",
   "execution_count": 33,
   "metadata": {},
   "outputs": [
    {
     "name": "stdout",
     "output_type": "stream",
     "text": [
      "['welcome python\\n', 'kameswari\\n', 'welcome python\\n', 'kameswari\\n', 'mstp apssdc\\n', 'kameswari\\n', 'mstp apssdc\\n', 'mstp apssdc\\n']\n"
     ]
    }
   ],
   "source": [
    "f1=open(\"data.txt\",'r')\n",
    "c=f1.readlines()\n",
    "print(c)"
   ]
  },
  {
   "cell_type": "code",
   "execution_count": 42,
   "metadata": {},
   "outputs": [
    {
     "name": "stdout",
     "output_type": "stream",
     "text": [
      "welcome python\n",
      " kameswari\n",
      " welcome python\n",
      " kameswari\n",
      " mstp apssdc\n",
      " kameswari\n",
      " mstp apssdc\n",
      " mstp apssdc\n",
      " "
     ]
    }
   ],
   "source": [
    "## Accessing all content line by line\n",
    "def get_elements(f1):\n",
    "    f1=open(\"data.txt\",'r')\n",
    "    c=f1.readlines()\n",
    "    for i in c:\n",
    "\n",
    "        print(i,end=\" \")\n",
    "get_elements(f1)\n"
   ]
  },
  {
   "cell_type": "code",
   "execution_count": 47,
   "metadata": {},
   "outputs": [
    {
     "name": "stdout",
     "output_type": "stream",
     "text": [
      "8\n"
     ]
    }
   ],
   "source": [
    "# lines count\n",
    "#  characters count\n",
    "#  words count\n",
    "#  length\n",
    "def linescount(f):\n",
    "    count=0\n",
    "    with open(\"data.txt\",'r') as f:\n",
    "        a=f.readlines()\n",
    "        for i in a:\n",
    "            count=count+1\n",
    "        print(count)\n",
    "f=\"data.txt\"\n",
    "linescount(f)\n"
   ]
  },
  {
   "cell_type": "code",
   "execution_count": 50,
   "metadata": {},
   "outputs": [
    {
     "name": "stdout",
     "output_type": "stream",
     "text": [
      "96\n"
     ]
    }
   ],
   "source": [
    "# characters count\n",
    "def charcount(f):\n",
    "    count=0\n",
    "    with open(\"data.txt\",'r') as f:\n",
    "        a=f.read()\n",
    "        for i in a:\n",
    "            count=count+1\n",
    "        print(count)\n",
    "f=\"data.txt\"\n",
    "charcount(f)\n"
   ]
  },
  {
   "cell_type": "code",
   "execution_count": 56,
   "metadata": {},
   "outputs": [
    {
     "name": "stdout",
     "output_type": "stream",
     "text": [
      "96\n"
     ]
    }
   ],
   "source": [
    "# length count\n",
    "def lengthcount(f):\n",
    "    count=0\n",
    "    with open(\"data.txt\",'r') as f:\n",
    "        a=f.read()\n",
    "        x=len(a)\n",
    "        print(x)\n",
    "lengthcount(f)"
   ]
  },
  {
   "cell_type": "code",
   "execution_count": 57,
   "metadata": {},
   "outputs": [
    {
     "name": "stdout",
     "output_type": "stream",
     "text": [
      "13\n"
     ]
    }
   ],
   "source": [
    "def wordcount(f):\n",
    "    count=0\n",
    "    with open(\"data.txt\",'r') as f:\n",
    "        a=f.read()\n",
    "        b=a.split()\n",
    "        print(len(b))\n",
    "wordcount(f)"
   ]
  },
  {
   "cell_type": "code",
   "execution_count": null,
   "metadata": {},
   "outputs": [],
   "source": []
  }
 ],
 "metadata": {
  "kernelspec": {
   "display_name": "Python 3",
   "language": "python",
   "name": "python3"
  },
  "language_info": {
   "codemirror_mode": {
    "name": "ipython",
    "version": 3
   },
   "file_extension": ".py",
   "mimetype": "text/x-python",
   "name": "python",
   "nbconvert_exporter": "python",
   "pygments_lexer": "ipython3",
   "version": "3.7.3"
  }
 },
 "nbformat": 4,
 "nbformat_minor": 2
}
